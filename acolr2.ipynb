{
  "nbformat": 4,
  "nbformat_minor": 0,
  "metadata": {
    "colab": {
      "name": "LR.ipynb",
      "provenance": [],
      "collapsed_sections": []
    },
    "kernelspec": {
      "display_name": "Python 3",
      "name": "python3"
    },
    "language_info": {
      "name": "python"
    }
  },
  "cells": [
    {
      "cell_type": "code",
      "metadata": {
        "id": "wtFeqssJlKF8"
      },
      "source": [
        "\n",
        "import sys\n",
        "import math\n",
        "import time\n",
        "from random import randint,choice, shuffle, random\n",
        "from statistics import mode\n",
        "import pandas as pd\n",
        "import seaborn as sns\n",
        "import matplotlib.pyplot as plt\n",
        "import numpy as np\n",
        "from scipy import stats\n",
        "# from sklearn import svm\n",
        "from sklearn.model_selection import train_test_split\n",
        "from sklearn.metrics import *\n",
        "from sklearn.preprocessing import LabelEncoder\n",
        "from sklearn.feature_selection import *\n",
        "# from sklearn.neighbors import KNeighborsClassifier\n",
        "# from sklearn import tree\n",
        "\n",
        "from sklearn.linear_model import LogisticRegression\n",
        "from sklearn.model_selection import GridSearchCV\n",
        "from sklearn.metrics import make_scorer\n",
        "from sklearn.metrics import confusion_matrix \n",
        "\n",
        "def specificity(y_true, y_predicted):\n",
        " tp,fp,fn,tn = confusion_matrix(y_true, y_predicted).ravel()\n",
        " s=tn/(tn+fp)\n",
        " return s\n",
        "\n",
        "my_scorer = make_scorer(specificity, greater_is_better=True)\n",
        "\n",
        "\n",
        "\n"
      ],
      "execution_count": null,
      "outputs": []
    },
    {
      "cell_type": "code",
      "metadata": {
        "id": "zK-mLrTLmLMT"
      },
      "source": [
        "data=pd.read_csv('/content/drive/MyDrive/Colab Notebooks/M_dataset/creditcardM.csv')\n",
        "data.drop('Time',axis=1,inplace=True)\n"
      ],
      "execution_count": null,
      "outputs": []
    },
    {
      "cell_type": "code",
      "metadata": {
        "colab": {
          "base_uri": "https://localhost:8080/"
        },
        "id": "0R5id-DWh-x8",
        "outputId": "5fdfe5f6-6644-41d0-ade1-337301275e22"
      },
      "source": [
        "\n",
        "data[(data['Class']==1)].index"
      ],
      "execution_count": null,
      "outputs": [
        {
          "output_type": "execute_result",
          "data": {
            "text/plain": [
              "Int64Index([  25,   40,   51,   58,   82,   98,  123,  150,  160,  178,\n",
              "            ...\n",
              "            9844, 9849, 9861, 9907, 9914, 9922, 9927, 9948, 9968, 9979],\n",
              "           dtype='int64', length=492)"
            ]
          },
          "metadata": {
            "tags": []
          },
          "execution_count": 7
        }
      ]
    },
    {
      "cell_type": "code",
      "metadata": {
        "id": "bM9SzpIJHzLr"
      },
      "source": [
        "col_names=list(data.columns)\n",
        "Att_names=col_names[:-1]\n",
        "Class_names=data[\"Class\"].unique()"
      ],
      "execution_count": null,
      "outputs": []
    },
    {
      "cell_type": "code",
      "metadata": {
        "colab": {
          "base_uri": "https://localhost:8080/"
        },
        "id": "pt5lAz-CH2JG",
        "outputId": "20256a1b-2e8d-42b5-8103-e92666c2336f"
      },
      "source": [
        "n_att = len(Att_names)\n",
        "n_att\n",
        "\n",
        "\n",
        " "
      ],
      "execution_count": null,
      "outputs": [
        {
          "output_type": "execute_result",
          "data": {
            "text/plain": [
              "29"
            ]
          },
          "metadata": {
            "tags": []
          },
          "execution_count": 9
        }
      ]
    },
    {
      "cell_type": "code",
      "metadata": {
        "id": "cVOb89Asma2W"
      },
      "source": [
        "\n",
        "train_data, test_data = train_test_split(data, test_size=0.3)\n",
        "train_x=train_data.iloc[:,:-1].values\n",
        "train_y=train_data[\"Class\"].values\n",
        "test_x=test_data.iloc[:,:-1].values\n",
        "test_y=test_data[\"Class\"].values\n"
      ],
      "execution_count": null,
      "outputs": []
    },
    {
      "cell_type": "markdown",
      "metadata": {
        "id": "dJ5YnA_Bt5YP"
      },
      "source": [
        "LogisticRegression\n"
      ]
    },
    {
      "cell_type": "code",
      "metadata": {
        "id": "C3ufT2_ZoHqx"
      },
      "source": [
        "\n",
        "# Logestic LogisticRegression\n",
        "\n",
        "clf=GridSearchCV(LogisticRegression(max_iter=100,n_jobs=-1,class_weight='balanced'),scoring=my_scorer,param_grid={'C':[0.1]})\n",
        "\n",
        "\n",
        "\n",
        "\n"
      ],
      "execution_count": null,
      "outputs": []
    },
    {
      "cell_type": "code",
      "metadata": {
        "id": "1NQg3y-wINie"
      },
      "source": [
        "#Constants\n",
        "#pheromone concentration influence \n",
        "alpha = 0.5 \n",
        "#MI influence\n",
        "beta = 0.5\n",
        "#pheromone evoparation\n",
        "rho = 0.1\n",
        "#Pheromone diposite level\n",
        "q = 0.5\n",
        "epsilon = 0.001"
      ],
      "execution_count": null,
      "outputs": []
    },
    {
      "cell_type": "code",
      "metadata": {
        "colab": {
          "base_uri": "https://localhost:8080/"
        },
        "id": "my3a9TV0IPXE",
        "outputId": "291117c8-fb75-4c55-ef78-e1ec7d64dbd5"
      },
      "source": [
        "clf.fit(train_x,train_y)\n",
        "clf.score(test_x,test_y)\n"
      ],
      "execution_count": null,
      "outputs": [
        {
          "output_type": "execute_result",
          "data": {
            "text/plain": [
              "0.6559633027522935"
            ]
          },
          "metadata": {
            "tags": []
          },
          "execution_count": 18
        }
      ]
    },
    {
      "cell_type": "code",
      "metadata": {
        "colab": {
          "background_save": true,
          "base_uri": "https://localhost:8080/"
        },
        "id": "H8Rbl8tTIR9q",
        "outputId": "ac570f00-6d6e-4396-bf9c-98cd231bb0aa"
      },
      "source": [
        "\n",
        "# number of ants and number of iterations\n",
        "tset = list(range(n_att))\n",
        "n_ants = 10\n",
        "n_iter = 10\n",
        "ants=[[] for x in range(n_ants)]\n",
        "ac_ants=[0 for x in range(n_ants)]\n",
        "best_tour = tset.copy()\n",
        "best_ac=clf.fit(train_x[:,best_tour],train_y).score(test_x[:,best_tour],test_y)\n",
        "#Intializing Pheromone\n",
        "ph_trail = []\n",
        "for i in range(n_att):\n",
        "    p_r = [0.5 for j in range(n_att)]\n",
        "    p_r[i] = 0\n",
        "    ph_trail.append(p_r)\n",
        "t_time_s = time.time()\n",
        "t_t_time = 0\n",
        "for i in range(n_iter):\n",
        "    print(\"Iteration No :\", i)\n",
        "    at_time_s = time.time()\n",
        "    for a in range(n_ants):\n",
        "        ants[a]=[choice(best_tour)]\n",
        "        while True:\n",
        "            change=False\n",
        "            mic = clf.fit(train_x[:,ants[a]],train_y).score(test_x[:,ants[a]],test_y)\n",
        "            next_pos = {}\n",
        "            max_next = []\n",
        "            for at in range(n_att):\n",
        "                if at not in ants[a]:\n",
        "                    ph=0\n",
        "                    hi = clf.fit(train_x[:,ants[a]+[at]],train_y).score(test_x[:,ants[a]+[at]],test_y)- mic\n",
        "                    hi= 0 if hi<=0 else hi\n",
        "                    for x_pos in ants[a]:\n",
        "                        ph+=ph_trail[x_pos][at]\n",
        "                    ph=ph/len(ants[a])\n",
        "                    t_value = (hi ** beta) * (ph ** alpha)\n",
        "                    if t_value>0:\n",
        "                        max_next.append((t_value,at))\n",
        "            if(len(max_next)):    \n",
        "                pr=randint(0,len(max_next)-1)\n",
        "                n_at = max_next[randint(0, pr)][1]\n",
        "                ants[a].append(n_at)\n",
        "                change=True\n",
        "            if change==False:\n",
        "                break\n",
        "    for a in range(n_ants):\n",
        "        ascore=clf.fit(train_x[:,ants[a]],train_y).score(test_x[:,ants[a]],test_y)\n",
        "        ac_ants[a]=(ascore)\n",
        "        bscore=best_ac\n",
        "        if ascore>bscore:\n",
        "            best_tour = ants[a].copy()\n",
        "            best_ac=ac_ants[a]\n",
        "        elif ascore==bscore:\n",
        "            if len(ants[a])<len(best_tour):\n",
        "                best_tour = ants[a].copy()\n",
        "                best_ac=ac_ants[a]\n",
        "    for a in range(n_ants):\n",
        "        for k in ants[a]:\n",
        "            for j in ants[a]:\n",
        "                if k != j:\n",
        "                    ph_trail[k][j] += ph_trail[k][j] *  ac_ants[a]/ len(ants[a])\n",
        "                    if ph_trail[k][j]>1:\n",
        "                        ph_trail[k][j]=1\n",
        "    for k in best_tour:\n",
        "        for j in best_tour:\n",
        "            if k != j:\n",
        "                ph_trail[k][j] += ph_trail[k][j] *  best_ac/ len(ants[a])\n",
        "                if ph_trail[k][j]>1:\n",
        "                    ph_trail[k][j]=1\n",
        "    for j in range(n_att):\n",
        "        for k in range(n_att):\n",
        "            if k!=j:\n",
        "                ph_trail[j][k]*=(1-rho)\n",
        "    at_time_e = time.time()\n",
        "    tempset=set()\n",
        "    print(\"###########Iteration : \",i,\"############\")\n",
        "    for a in range(n_ants):\n",
        "        print(\"Sol of ant \",a,\" is :\",ants[a],\"     Specificity:\",ac_ants[a])\n",
        "    print(\"Sol of best ant till now is :\",[Att_names[x] for x in best_tour],\"     Specificity:\",best_ac)\n",
        "    print(\"Best_Sol length :  \", len(best_tour))\n",
        "    print(\"Time Taken by iteration \", i, \" is :\", at_time_e - at_time_s)\n",
        "t_time_e = time.time()\n",
        "print(\"Total time by ACO (in sec): \", t_time_e - t_time_s)\n",
        "print(\"Best_Sol  :  \", [Att_names[x] for x in best_tour])\n",
        "print(\"Best_Sol length :  \", len(best_tour))\n",
        "print(\"Specificity of Best_ant solution is :\",best_ac)\n"
      ],
      "execution_count": null,
      "outputs": [
        {
          "output_type": "stream",
          "text": [
            "Iteration No : 0\n",
            "###########Iteration :  0 ############\n",
            "Sol of ant  0  is : [19, 0, 1, 2, 5, 14, 15, 6, 8, 9, 25, 21, 10, 22, 24]      Specificity: 0.751412429378531\n",
            "Sol of ant  1  is : [6, 2, 0, 17, 10, 1, 5, 12, 14, 8, 9, 13, 15, 22, 19, 24, 27]      Specificity: 0.7393617021276596\n",
            "Sol of ant  2  is : [11, 3, 0, 12, 15, 7, 1, 2, 10, 9, 4, 22, 13, 18, 5]      Specificity: 0.6908212560386473\n",
            "Sol of ant  3  is : [23, 5, 14, 12, 3, 6, 1, 15, 11, 2, 10, 7, 20, 0, 4, 9, 26, 13, 8]      Specificity: 0.6941747572815534\n",
            "Sol of ant  4  is : [15, 2, 3, 1, 6, 5, 8, 17, 10, 4, 11, 13, 7, 0, 9, 16, 20, 18]      Specificity: 0.7114427860696517\n",
            "Sol of ant  5  is : [18, 11, 12, 5, 13, 2, 6, 8, 15, 10, 23, 14, 20]      Specificity: 0.7796610169491526\n",
            "Sol of ant  6  is : [20, 6, 1, 4, 17, 2, 5, 13, 19, 15, 8, 16, 9, 7, 12, 21, 24]      Specificity: 0.7473118279569892\n",
            "Sol of ant  7  is : [1, 15, 19, 6, 20, 5, 9, 23, 14, 8, 10, 24]      Specificity: 0.8471337579617835\n",
            "Sol of ant  8  is : [19, 6, 9, 5, 13, 11, 18, 15, 8, 10, 12, 16, 20]      Specificity: 0.7808988764044944\n",
            "Sol of ant  9  is : [7, 9, 2, 10, 6, 1, 13, 21]      Specificity: 0.717948717948718\n",
            "Sol of best ant till now is : ['V2', 'V16', 'V20', 'V7', 'V21', 'V6', 'V10', 'V24', 'V15', 'V9', 'V11', 'V25']      Specificity: 0.8471337579617835\n",
            "Best_Sol length :   12\n",
            "Time Taken by iteration  0  is : 956.4288737773895\n",
            "Iteration No : 1\n",
            "###########Iteration :  1 ############\n",
            "Sol of ant  0  is : [15, 5, 1, 12, 13, 2, 8, 22, 6, 9, 20, 14, 10]      Specificity: 0.7909604519774012\n",
            "Sol of ant  1  is : [9, 3, 21, 18, 4, 1, 14, 13, 6, 12, 2, 5, 0, 10, 15, 11, 16, 7, 20, 17, 25]      Specificity: 0.7114427860696517\n",
            "Sol of ant  2  is : [1, 6, 5, 13, 25, 7, 16, 28]      Specificity: 0.7419354838709677\n",
            "Sol of ant  3  is : [15, 0, 9, 2, 1, 6, 5, 10, 14, 8, 24]      Specificity: 0.764367816091954\n",
            "Sol of ant  4  is : [14, 2, 1, 8, 11, 5, 13, 24, 10, 15, 20, 12, 6, 9, 17]      Specificity: 0.776536312849162\n",
            "Sol of ant  5  is : [15, 16, 1, 19, 9, 3, 12, 5, 13, 4, 20, 7, 0, 2]      Specificity: 0.6945812807881774\n",
            "Sol of ant  6  is : [14, 8, 3, 15, 4, 11, 2, 9, 0, 10, 6, 27, 13]      Specificity: 0.6878048780487804\n",
            "Sol of ant  7  is : [6, 1, 13, 4, 8, 0, 12, 15, 17, 9, 16, 20, 21, 7, 5, 2, 26, 25]      Specificity: 0.7433155080213903\n",
            "Sol of ant  8  is : [10, 6, 0, 9, 1, 5, 8, 15]      Specificity: 0.7823529411764706\n",
            "Sol of ant  9  is : [23, 0, 3, 11, 8, 10, 6, 12, 7, 1, 5, 2, 9, 4, 22, 17, 15, 13, 16, 20, 24]      Specificity: 0.7044334975369458\n",
            "Sol of best ant till now is : ['V2', 'V16', 'V20', 'V7', 'V21', 'V6', 'V10', 'V24', 'V15', 'V9', 'V11', 'V25']      Specificity: 0.8471337579617835\n",
            "Best_Sol length :   12\n",
            "Time Taken by iteration  1  is : 980.3527317047119\n",
            "Iteration No : 2\n",
            "###########Iteration :  2 ############\n",
            "Sol of ant  0  is : [14, 15, 0, 19, 9, 2, 1, 6, 10, 20, 8, 5]      Specificity: 0.7471910112359551\n",
            "Sol of ant  1  is : [15, 3, 11, 1, 5, 6, 10, 4, 0, 13, 7, 16, 9, 28, 2, 8, 23]      Specificity: 0.7208121827411168\n",
            "Sol of ant  2  is : [14, 3, 11, 2, 1, 9, 0, 6, 10, 13, 4, 15, 16, 8, 7, 18, 28, 20, 19, 25]      Specificity: 0.7513227513227513\n",
            "Sol of ant  3  is : [15, 0, 1, 2, 24, 3, 6, 10, 8, 7, 5, 9, 18, 13, 16, 20, 28, 26]      Specificity: 0.7621621621621621\n",
            "Sol of ant  4  is : [8, 1, 2, 3, 10, 13, 0, 6, 14, 9, 24, 15, 5, 28, 23, 16, 7, 18]      Specificity: 0.746031746031746\n",
            "Sol of ant  5  is : [10, 2, 9, 1, 8, 6, 15, 12, 21, 25, 27, 26]      Specificity: 0.806060606060606\n",
            "Sol of ant  6  is : [5, 15, 2, 8, 21, 13, 9, 14, 6, 20, 10]      Specificity: 0.7777777777777778\n",
            "Sol of ant  7  is : [23, 12, 0, 2, 13, 6, 8, 5, 1, 16, 7, 9, 10, 19, 18, 20]      Specificity: 0.7419354838709677\n",
            "Sol of ant  8  is : [14, 23, 2, 0, 1, 4, 6, 8, 9, 3, 11, 13, 10, 7, 19, 17]      Specificity: 0.7171717171717171\n",
            "Sol of ant  9  is : [8, 14, 16, 18, 1, 5, 12, 6, 9, 22, 10]      Specificity: 0.8023952095808383\n",
            "Sol of best ant till now is : ['V2', 'V16', 'V20', 'V7', 'V21', 'V6', 'V10', 'V24', 'V15', 'V9', 'V11', 'V25']      Specificity: 0.8471337579617835\n",
            "Best_Sol length :   12\n",
            "Time Taken by iteration  2  is : 1170.2705006599426\n",
            "Iteration No : 3\n",
            "###########Iteration :  3 ############\n",
            "Sol of ant  0  is : [9, 1, 2, 13, 12, 10, 0, 5, 8, 18]      Specificity: 0.7202072538860104\n",
            "Sol of ant  1  is : [8, 1, 3, 6, 10, 5, 2, 15, 9, 13, 0, 7, 16, 18]      Specificity: 0.7540106951871658\n",
            "Sol of ant  2  is : [24, 11, 0, 2, 13, 15, 8, 16, 9, 10, 7, 18, 19]      Specificity: 0.7473118279569892\n",
            "Sol of ant  3  is : [15, 3, 1, 2, 23, 5, 10, 18, 21, 13, 9, 8, 4, 17, 16, 7]      Specificity: 0.7244897959183674\n",
            "Sol of ant  4  is : [24, 0, 2, 3, 16, 1, 13, 14, 10, 7, 6, 25, 11, 9, 17, 4, 15, 8, 28]      Specificity: 0.7208121827411168\n",
            "Sol of ant  5  is : [23, 4, 2, 0, 5, 9, 13, 15, 11, 24, 6, 8, 14, 17, 7, 1]      Specificity: 0.745945945945946\n",
            "Sol of ant  6  is : [8, 7, 24, 19, 4, 10, 1, 0, 5, 13, 12, 17, 6, 9, 16, 20]      Specificity: 0.7472527472527473\n",
            "Sol of ant  7  is : [14, 5, 15, 0, 9, 6, 2, 1, 8, 10, 26]      Specificity: 0.764367816091954\n",
            "Sol of ant  8  is : [24, 9, 1, 10, 5, 15, 18, 13, 8, 20]      Specificity: 0.7873563218390804\n",
            "Sol of ant  9  is : [24, 2, 22, 9, 8, 6, 10, 12, 27, 15, 21, 1]      Specificity: 0.806060606060606\n",
            "Sol of best ant till now is : ['V2', 'V16', 'V20', 'V7', 'V21', 'V6', 'V10', 'V24', 'V15', 'V9', 'V11', 'V25']      Specificity: 0.8471337579617835\n",
            "Best_Sol length :   12\n",
            "Time Taken by iteration  3  is : 1016.7195541858673\n",
            "Iteration No : 4\n",
            "###########Iteration :  4 ############\n",
            "Sol of ant  0  is : [19, 6, 16, 5]      Specificity: 0.7396449704142012\n",
            "Sol of ant  1  is : [10, 1, 15, 5, 2, 6, 24, 8, 9, 12, 27, 14]      Specificity: 0.8109756097560976\n",
            "Sol of ant  2  is : [10, 1, 9, 16, 8, 5, 6, 12, 27, 22]      Specificity: 0.8271604938271605\n",
            "Sol of ant  3  is : [1, 4, 2, 16, 3, 6, 10, 5, 8, 9, 0, 12, 20, 22]      Specificity: 0.6965174129353234\n",
            "Sol of ant  4  is : [8, 0, 3, 11, 6, 1, 4, 2, 18, 14, 10, 12, 9, 15, 16, 23, 20, 5, 27]      Specificity: 0.7079207920792079\n",
            "Sol of ant  5  is : [23, 3, 15, 2, 5, 6, 1, 9, 4, 17, 13, 24, 7, 10, 16, 8, 27]      Specificity: 0.734375\n",
            "Sol of ant  6  is : [15, 1, 16, 6, 5, 12, 13, 2, 8, 9, 18, 10, 20, 23]      Specificity: 0.8\n",
            "Sol of ant  7  is : [14, 3, 10, 11, 1, 0, 5, 15, 22, 4, 6, 9, 2, 8, 13, 17, 7, 16, 20, 23, 25]      Specificity: 0.7079207920792079\n",
            "Sol of ant  8  is : [8, 1, 11, 2, 13, 23, 6, 5, 9, 15, 10, 18, 14, 17]      Specificity: 0.776536312849162\n",
            "Sol of ant  9  is : [23, 18, 0, 6, 5, 2, 1, 8, 9, 11, 13, 26, 24, 15]      Specificity: 0.7696629213483146\n",
            "Sol of best ant till now is : ['V2', 'V16', 'V20', 'V7', 'V21', 'V6', 'V10', 'V24', 'V15', 'V9', 'V11', 'V25']      Specificity: 0.8471337579617835\n",
            "Best_Sol length :   12\n",
            "Time Taken by iteration  4  is : 1033.388735294342\n",
            "Iteration No : 5\n",
            "###########Iteration :  5 ############\n",
            "Sol of ant  0  is : [19, 0, 6, 2, 1, 4, 16, 13, 7, 5, 8, 14, 15, 25, 24, 11, 9, 18]      Specificity: 0.7554347826086957\n",
            "Sol of ant  1  is : [10, 2, 0, 1, 14, 5, 9, 8, 12, 13, 15, 20, 6, 19, 24]      Specificity: 0.7486338797814208\n",
            "Sol of ant  2  is : [20, 1, 7, 4, 9, 2, 11, 22, 0, 12, 3, 15, 5, 21, 10, 14, 13]      Specificity: 0.6875\n",
            "Sol of ant  3  is : [20, 1, 4, 26, 2, 22, 0, 5, 16, 6, 17, 13, 10, 9, 24, 12]      Specificity: 0.7055837563451777\n",
            "Sol of ant  4  is : [10, 13, 1, 6, 8, 15, 9, 20, 18]      Specificity: 0.7976878612716763\n",
            "Sol of ant  5  is : [24, 11, 6, 0, 1, 3, 8, 5, 2, 21, 9, 13, 14, 25, 4, 7, 17, 10, 16]      Specificity: 0.715\n",
            "Sol of ant  6  is : [23, 1, 17, 9, 13, 10, 15, 16, 20, 22, 24, 18]      Specificity: 0.7885714285714286\n",
            "Sol of ant  7  is : [6, 3, 2, 5, 4, 8, 9, 0, 11, 14, 13, 1, 10, 7, 12, 16, 21, 20, 27]      Specificity: 0.7222222222222222\n",
            "Sol of ant  8  is : [9, 1, 14, 6, 8, 10, 15, 5, 22, 27, 24]      Specificity: 0.88\n",
            "Sol of ant  9  is : [6, 11, 2, 1, 24, 9, 3, 15, 17, 14, 12, 5, 0, 8, 10, 20, 16, 13, 28, 4]      Specificity: 0.7085427135678392\n",
            "Sol of best ant till now is : ['V10', 'V2', 'V15', 'V7', 'V9', 'V11', 'V16', 'V6', 'V23', 'V28', 'V25']      Specificity: 0.88\n",
            "Best_Sol length :   11\n",
            "Time Taken by iteration  5  is : 1212.4465818405151\n",
            "Iteration No : 6\n",
            "###########Iteration :  6 ############\n",
            "Sol of ant  0  is : [24, 1, 2, 9, 8, 6, 13, 15, 12]      Specificity: 0.776536312849162\n",
            "Sol of ant  1  is : [24, 10, 2, 1, 6, 5, 8, 4, 14, 9, 20]      Specificity: 0.7640449438202247\n",
            "Sol of ant  2  is : [6, 5, 9, 24, 1, 13, 8, 20, 10, 12, 14, 15, 2, 27, 22, 26]      Specificity: 0.7942857142857143\n",
            "Sol of ant  3  is : [15, 0, 9, 2, 8, 10, 6, 12, 27]      Specificity: 0.7810650887573964\n",
            "Sol of ant  4  is : [24, 2, 20, 27, 0, 1, 6, 8, 10, 9, 14, 15, 5]      Specificity: 0.7687861271676301\n",
            "Sol of ant  5  is : [9, 2, 1, 8, 5, 13, 15, 14, 24, 20, 6, 23, 27]      Specificity: 0.7906976744186046\n",
            "Sol of ant  6  is : [10, 0, 5, 1, 15, 9, 8, 6]      Specificity: 0.7823529411764706\n",
            "Sol of ant  7  is : [27, 3, 2, 15, 4, 1, 8, 9, 14, 7, 22, 16, 10, 5, 13, 20, 6, 24, 26]      Specificity: 0.743455497382199\n",
            "Sol of ant  8  is : [27, 12, 5, 0, 18, 20, 19, 3, 22, 7, 2, 15, 17, 1, 26, 9, 4, 6, 16, 10, 8, 13, 25, 24]      Specificity: 0.7171717171717171\n",
            "Sol of ant  9  is : [6, 1, 13, 0, 15, 5, 24, 10, 9, 18, 17, 8, 12, 20, 14, 23]      Specificity: 0.7784090909090909\n",
            "Sol of best ant till now is : ['V10', 'V2', 'V15', 'V7', 'V9', 'V11', 'V16', 'V6', 'V23', 'V28', 'V25']      Specificity: 0.88\n",
            "Best_Sol length :   11\n",
            "Time Taken by iteration  6  is : 1110.5922317504883\n",
            "Iteration No : 7\n",
            "###########Iteration :  7 ############\n",
            "Sol of ant  0  is : [8, 0, 2, 5, 10, 9, 6, 22, 23, 15, 1, 24, 21]      Specificity: 0.764367816091954\n",
            "Sol of ant  1  is : [9, 13, 1, 10, 15, 6, 8, 20, 16]      Specificity: 0.7931034482758621\n",
            "Sol of ant  2  is : [15, 0, 1, 19, 6, 2, 10, 12, 5, 13, 8, 9, 18, 23, 27]      Specificity: 0.745945945945946\n",
            "Sol of ant  3  is : [8, 0, 3, 1, 5, 13, 17, 2, 6, 7, 9, 11, 10, 20, 16, 23, 24, 28]      Specificity: 0.7244897959183674\n",
            "Sol of ant  4  is : [1, 6, 5, 16, 4, 21, 17, 14, 26, 24]      Specificity: 0.7109826589595376\n",
            "Sol of ant  5  is : [8, 0, 6, 19, 15, 9, 12, 10, 23, 13, 20, 26, 24]      Specificity: 0.791907514450867\n",
            "Sol of ant  6  is : [1, 9, 8, 10, 15, 5, 6, 24, 14, 27]      Specificity: 0.88\n",
            "Sol of ant  7  is : [1, 17, 21, 9, 13, 16, 7, 15, 24, 8, 23]      Specificity: 0.8011695906432749\n",
            "Sol of ant  8  is : [8, 6, 1, 11, 12, 10, 2, 13, 4, 26, 5]      Specificity: 0.7253886010362695\n",
            "Sol of ant  9  is : [15, 3, 5, 9, 8, 0, 7, 17, 13, 6, 12, 1, 11, 19, 2]      Specificity: 0.7079207920792079\n",
            "Sol of best ant till now is : ['V2', 'V10', 'V9', 'V11', 'V16', 'V6', 'V7', 'V25', 'V15', 'V28']      Specificity: 0.88\n",
            "Best_Sol length :   10\n",
            "Time Taken by iteration  7  is : 1033.7716588974\n",
            "Iteration No : 8\n",
            "###########Iteration :  8 ############\n",
            "Sol of ant  0  is : [5, 6, 14, 1, 9, 2, 17, 16, 8, 10, 4, 18]      Specificity: 0.7848837209302325\n",
            "Sol of ant  1  is : [15, 5, 3, 7, 4, 1, 2, 9, 17, 12, 16, 8, 19, 10, 0, 6, 24, 18, 26, 20]      Specificity: 0.7135678391959799\n",
            "Sol of ant  2  is : [6, 0, 3, 9, 13, 8, 1, 4, 18, 2, 16, 10, 15, 7, 5, 25, 23]      Specificity: 0.7409326424870466\n",
            "Sol of ant  3  is : [9, 20, 2, 6, 8, 12, 10, 15, 24, 5]      Specificity: 0.806060606060606\n",
            "Sol of ant  4  is : [5, 3, 15, 9, 11, 20, 1, 2, 26, 10, 12, 8, 6]      Specificity: 0.6926829268292682\n",
            "Sol of ant  5  is : [15, 11, 13, 8, 14, 9, 6, 10, 27, 26]      Specificity: 0.8023255813953488\n",
            "Sol of ant  6  is : [6, 3, 5, 4, 1, 16, 14, 2, 10, 9, 15, 12]      Specificity: 0.6829268292682927\n",
            "Sol of ant  7  is : [14, 11, 0, 20, 3, 12, 2, 6, 4, 5, 8, 13, 16, 1, 15, 25, 7, 9, 10, 22]      Specificity: 0.7044334975369458\n",
            "Sol of ant  8  is : [9, 2, 13, 10, 15, 8, 20, 6, 12, 14]      Specificity: 0.7942857142857143\n",
            "Sol of ant  9  is : [8, 3, 11, 4, 25, 6, 2, 12, 1, 10, 15, 14, 5, 9, 0, 18, 16, 17, 20, 22]      Specificity: 0.6990291262135923\n",
            "Sol of best ant till now is : ['V2', 'V10', 'V9', 'V11', 'V16', 'V6', 'V7', 'V25', 'V15', 'V28']      Specificity: 0.88\n",
            "Best_Sol length :   10\n",
            "Time Taken by iteration  8  is : 1200.7806932926178\n",
            "Iteration No : 9\n"
          ],
          "name": "stdout"
        }
      ]
    }
  ]
}