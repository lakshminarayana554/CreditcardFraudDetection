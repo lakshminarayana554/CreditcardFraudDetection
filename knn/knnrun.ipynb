{
  "nbformat": 4,
  "nbformat_minor": 0,
  "metadata": {
    "colab": {
      "name": "LR.ipynb",
      "provenance": [],
      "collapsed_sections": []
    },
    "kernelspec": {
      "display_name": "Python 3",
      "name": "python3"
    },
    "language_info": {
      "name": "python"
    },
    "accelerator": "GPU"
  },
  "cells": [
    {
      "cell_type": "code",
      "metadata": {
        "id": "wtFeqssJlKF8"
      },
      "source": [
        "\n",
        "import sys\n",
        "import math\n",
        "import time\n",
        "from random import randint,choice, shuffle, random\n",
        "from statistics import mode\n",
        "import pandas as pd\n",
        "import seaborn as sns\n",
        "import matplotlib.pyplot as plt\n",
        "import numpy as np\n",
        "from scipy import stats\n",
        "# from sklearn import svm\n",
        "from sklearn.model_selection import train_test_split\n",
        "from sklearn.metrics import *\n",
        "from sklearn.preprocessing import LabelEncoder\n",
        "from sklearn.feature_selection import *\n",
        "from sklearn.neighbors import KNeighborsClassifier\n",
        "# from sklearn import tree\n",
        "\n",
        "from sklearn.linear_model import LogisticRegression\n",
        "from sklearn.model_selection import GridSearchCV\n",
        "from sklearn.metrics import make_scorer\n",
        "from sklearn.metrics import confusion_matrix \n",
        "\n",
        "def specificity(y_true, y_predicted):\n",
        " tp,fn,fp,tn = confusion_matrix(y_true, y_predicted).ravel()\n",
        " s=tn/(tn+fp)\n",
        " return s\n",
        "\n",
        "my_scorer = make_scorer(specificity, greater_is_better=True)\n",
        "\n",
        "\n",
        "\n"
      ],
      "execution_count": 2,
      "outputs": []
    },
    {
      "cell_type": "code",
      "metadata": {
        "id": "zK-mLrTLmLMT"
      },
      "source": [
        "data=pd.read_csv('/content/drive/MyDrive/Colab Notebooks/M_dataset/creditcardM.csv')\n",
        "data.drop('Time',axis=1,inplace=True)\n"
      ],
      "execution_count": 3,
      "outputs": []
    },
    {
      "cell_type": "code",
      "metadata": {
        "colab": {
          "base_uri": "https://localhost:8080/"
        },
        "id": "0R5id-DWh-x8",
        "outputId": "218ecf3d-b8b5-47c7-8449-74122583642b"
      },
      "source": [
        "\n",
        "data[(data['Class']==1)].index"
      ],
      "execution_count": 4,
      "outputs": [
        {
          "output_type": "execute_result",
          "data": {
            "text/plain": [
              "Int64Index([  25,   40,   51,   58,   82,   98,  123,  150,  160,  178,\n",
              "            ...\n",
              "            9844, 9849, 9861, 9907, 9914, 9922, 9927, 9948, 9968, 9979],\n",
              "           dtype='int64', length=492)"
            ]
          },
          "metadata": {
            "tags": []
          },
          "execution_count": 4
        }
      ]
    },
    {
      "cell_type": "code",
      "metadata": {
        "id": "bM9SzpIJHzLr"
      },
      "source": [
        "col_names=list(data.columns)\n",
        "Att_names=col_names[:-1]\n",
        "Class_names=data[\"Class\"].unique()"
      ],
      "execution_count": 5,
      "outputs": []
    },
    {
      "cell_type": "code",
      "metadata": {
        "colab": {
          "base_uri": "https://localhost:8080/"
        },
        "id": "pt5lAz-CH2JG",
        "outputId": "b785c1e8-40e4-4a93-91a1-0727b21ad1c3"
      },
      "source": [
        "n_att = len(Att_names)\n",
        "n_att\n",
        "\n",
        "\n",
        " "
      ],
      "execution_count": 6,
      "outputs": [
        {
          "output_type": "execute_result",
          "data": {
            "text/plain": [
              "29"
            ]
          },
          "metadata": {
            "tags": []
          },
          "execution_count": 6
        }
      ]
    },
    {
      "cell_type": "code",
      "metadata": {
        "id": "cVOb89Asma2W"
      },
      "source": [
        "\n",
        "train_data, test_data = train_test_split(data, test_size=0.3)\n",
        "train_x=train_data.iloc[:,:-1].values\n",
        "train_y=train_data[\"Class\"].values\n",
        "test_x=test_data.iloc[:,:-1].values\n",
        "test_y=test_data[\"Class\"].values\n"
      ],
      "execution_count": 7,
      "outputs": []
    },
    {
      "cell_type": "markdown",
      "metadata": {
        "id": "dJ5YnA_Bt5YP"
      },
      "source": [
        "LogisticRegression\n"
      ]
    },
    {
      "cell_type": "code",
      "metadata": {
        "id": "C3ufT2_ZoHqx"
      },
      "source": [
        "\n",
        "# Logestic LogisticRegression\n",
        "\n",
        "\n",
        "grid_params={'n_neighbors':[3],'weights':['distance'],\n",
        "             'metric':['manhattan']\n",
        "             }\n",
        "\n",
        "clf=GridSearchCV(KNeighborsClassifier(),grid_params,n_jobs=-1,cv=3,scoring=my_scorer)\n",
        "\n",
        "\n",
        "\n",
        "\n"
      ],
      "execution_count": 8,
      "outputs": []
    },
    {
      "cell_type": "code",
      "metadata": {
        "id": "1NQg3y-wINie"
      },
      "source": [
        "#Constants\n",
        "#pheromone concentration influence \n",
        "alpha = 0.5 \n",
        "#MI influence\n",
        "beta = 0.5\n",
        "#pheromone evoparation\n",
        "rho = 0.1\n",
        "#Pheromone diposite level\n",
        "q = 0.5\n",
        "epsilon = 0.001"
      ],
      "execution_count": 9,
      "outputs": []
    },
    {
      "cell_type": "code",
      "metadata": {
        "colab": {
          "base_uri": "https://localhost:8080/"
        },
        "id": "my3a9TV0IPXE",
        "outputId": "22ff1383-9c27-49b6-f08b-fd0a6d97b62d"
      },
      "source": [
        "clf.fit(train_x,train_y)\n",
        "clf.score(test_x,test_y)\n"
      ],
      "execution_count": 10,
      "outputs": [
        {
          "output_type": "execute_result",
          "data": {
            "text/plain": [
              "0.7567567567567568"
            ]
          },
          "metadata": {
            "tags": []
          },
          "execution_count": 10
        }
      ]
    },
    {
      "cell_type": "code",
      "metadata": {
        "colab": {
          "base_uri": "https://localhost:8080/"
        },
        "id": "93buiGdu6Kvy",
        "outputId": "a0230efb-61b2-43c5-ef7f-c75c880c262f"
      },
      "source": [
        "clf.best_params_\n"
      ],
      "execution_count": 11,
      "outputs": [
        {
          "output_type": "execute_result",
          "data": {
            "text/plain": [
              "{'metric': 'manhattan', 'n_neighbors': 3, 'weights': 'distance'}"
            ]
          },
          "metadata": {
            "tags": []
          },
          "execution_count": 11
        }
      ]
    },
    {
      "cell_type": "code",
      "metadata": {
        "colab": {
          "base_uri": "https://localhost:8080/"
        },
        "id": "H8Rbl8tTIR9q",
        "outputId": "f0ecf476-0083-460d-ab09-bbef3778d21b"
      },
      "source": [
        "\n",
        "# number of ants and number of iterations\n",
        "tset = list(range(n_att))\n",
        "n_ants = 10\n",
        "n_iter = 10\n",
        "ants=[[] for x in range(n_ants)]\n",
        "ac_ants=[0 for x in range(n_ants)]\n",
        "best_tour = tset.copy()\n",
        "best_ac=clf.fit(train_x[:,best_tour],train_y).score(test_x[:,best_tour],test_y)\n",
        "#Intializing Pheromone\n",
        "ph_trail = []\n",
        "for i in range(n_att):\n",
        "    p_r = [0.5 for j in range(n_att)]\n",
        "    p_r[i] = 0\n",
        "    ph_trail.append(p_r)\n",
        "t_time_s = time.time()\n",
        "t_t_time = 0\n",
        "for i in range(n_iter):\n",
        "    print(\"Iteration No :\", i)\n",
        "    at_time_s = time.time()\n",
        "    for a in range(n_ants):\n",
        "        ants[a]=[choice(best_tour)]\n",
        "        while True:\n",
        "            change=False\n",
        "            mic = clf.fit(train_x[:,ants[a]],train_y).score(test_x[:,ants[a]],test_y)\n",
        "            next_pos = {}\n",
        "            max_next = []\n",
        "            for at in range(n_att):\n",
        "                if at not in ants[a]:\n",
        "                    ph=0\n",
        "                    hi = clf.fit(train_x[:,ants[a]+[at]],train_y).score(test_x[:,ants[a]+[at]],test_y)- mic\n",
        "                    hi= 0 if hi<=0 else hi\n",
        "                    for x_pos in ants[a]:\n",
        "                        ph+=ph_trail[x_pos][at]\n",
        "                    ph=ph/len(ants[a])\n",
        "                    t_value = (hi ** beta) * (ph ** alpha)\n",
        "                    if t_value>0:\n",
        "                        max_next.append((t_value,at))\n",
        "            if(len(max_next)):    \n",
        "                pr=randint(0,len(max_next)-1)\n",
        "                n_at = max_next[randint(0, pr)][1]\n",
        "                ants[a].append(n_at)\n",
        "                change=True\n",
        "            if change==False:\n",
        "                break\n",
        "    for a in range(n_ants):\n",
        "        ascore=clf.fit(train_x[:,ants[a]],train_y).score(test_x[:,ants[a]],test_y)\n",
        "        ac_ants[a]=(ascore)\n",
        "        bscore=best_ac\n",
        "        if ascore>bscore:\n",
        "            best_tour = ants[a].copy()\n",
        "            best_ac=ac_ants[a]\n",
        "        elif ascore==bscore:\n",
        "            if len(ants[a])<len(best_tour):\n",
        "                best_tour = ants[a].copy()\n",
        "                best_ac=ac_ants[a]\n",
        "    for a in range(n_ants):\n",
        "        for k in ants[a]:\n",
        "            for j in ants[a]:\n",
        "                if k != j:\n",
        "                    ph_trail[k][j] += ph_trail[k][j] *  ac_ants[a]/ len(ants[a])\n",
        "                    if ph_trail[k][j]>1:\n",
        "                        ph_trail[k][j]=1\n",
        "    for k in best_tour:\n",
        "        for j in best_tour:\n",
        "            if k != j:\n",
        "                ph_trail[k][j] += ph_trail[k][j] *  best_ac/ len(ants[a])\n",
        "                if ph_trail[k][j]>1:\n",
        "                    ph_trail[k][j]=1\n",
        "    for j in range(n_att):\n",
        "        for k in range(n_att):\n",
        "            if k!=j:\n",
        "                ph_trail[j][k]*=(1-rho)\n",
        "    at_time_e = time.time()\n",
        "    tempset=set()\n",
        "    print(\"###########Iteration : \",i,\"############\")\n",
        "    for a in range(n_ants):\n",
        "        print(\"Sol of ant \",a,\" is :\",ants[a],\"     Specificity:\",ac_ants[a])\n",
        "    print(\"Sol of best ant till now is :\",[Att_names[x] for x in best_tour],\"     Specificity:\",best_ac)\n",
        "    print(\"Best_Sol length :  \", len(best_tour))\n",
        "    print(\"Time Taken by iteration \", i, \" is :\", at_time_e - at_time_s)\n",
        "t_time_e = time.time()\n",
        "print(\"Total time by ACO (in sec): \", t_time_e - t_time_s)\n",
        "print(\"Best_Sol  :  \", [Att_names[x] for x in best_tour])\n",
        "print(\"Best_Sol length :  \", len(best_tour))\n",
        "print(\"Specificity of Best_ant solution is :\",best_ac)\n"
      ],
      "execution_count": 12,
      "outputs": [
        {
          "output_type": "stream",
          "text": [
            "Iteration No : 0\n",
            "###########Iteration :  0 ############\n",
            "Sol of ant  0  is : [16, 3, 4, 0, 17, 9, 7]      Specificity: 0.8851351351351351\n",
            "Sol of ant  1  is : [0, 25, 10, 1, 9, 16, 13, 8, 3, 6]      Specificity: 0.8851351351351351\n",
            "Sol of ant  2  is : [25, 0, 16, 5, 10, 8, 2, 3, 23, 13, 9]      Specificity: 0.8783783783783784\n",
            "Sol of ant  3  is : [13, 16, 7, 3, 8]      Specificity: 0.8918918918918919\n",
            "Sol of ant  4  is : [6, 11, 3, 8, 0, 9, 2, 13, 16, 7, 19, 12]      Specificity: 0.8851351351351351\n",
            "Sol of ant  5  is : [27, 14, 0, 2, 8, 5, 10, 1, 11, 18, 16, 13]      Specificity: 0.8783783783783784\n",
            "Sol of ant  6  is : [19, 6, 7, 10, 1, 23, 0, 9, 2, 3, 16, 11, 17]      Specificity: 0.8716216216216216\n",
            "Sol of ant  7  is : [28, 3, 1, 10, 2, 11, 6, 8, 7, 13, 5, 9, 16, 15]      Specificity: 0.777027027027027\n",
            "Sol of ant  8  is : [4, 17, 0, 5, 1, 13, 7, 25, 9, 8, 15, 11, 12, 3, 16]      Specificity: 0.8918918918918919\n",
            "Sol of ant  9  is : [26, 3, 7, 0, 6, 1, 11, 8, 14, 2, 13, 5, 15, 16, 4]      Specificity: 0.8783783783783784\n",
            "Sol of best ant till now is : ['V14', 'V17', 'V8', 'V4', 'V9']      Specificity: 0.8918918918918919\n",
            "Best_Sol length :   5\n",
            "Time Taken by iteration  0  is : 766.5627243518829\n",
            "Iteration No : 1\n",
            "###########Iteration :  1 ############\n",
            "Sol of ant  0  is : [7, 20, 16, 2, 3, 11, 10, 1, 6]      Specificity: 0.8716216216216216\n",
            "Sol of ant  1  is : [7, 1, 27, 13, 0, 3, 20, 8, 9, 16, 18]      Specificity: 0.8918918918918919\n",
            "Sol of ant  2  is : [16, 8, 5, 0, 3, 9, 12, 13, 1]      Specificity: 0.8918918918918919\n",
            "Sol of ant  3  is : [13, 9, 3, 0, 20, 8, 7]      Specificity: 0.8851351351351351\n",
            "Sol of ant  4  is : [7, 19, 18, 9, 8, 3, 11, 13, 5, 16, 17, 6]      Specificity: 0.8986486486486487\n",
            "Sol of ant  5  is : [8, 5, 10, 3, 2, 1, 4, 13, 11, 7]      Specificity: 0.8648648648648649\n",
            "Sol of ant  6  is : [13, 8, 17, 1, 11]      Specificity: 0.8783783783783784\n",
            "Sol of ant  7  is : [13, 5, 15, 4, 16, 0, 9, 3, 12, 14]      Specificity: 0.8918918918918919\n",
            "Sol of ant  8  is : [7, 0, 23, 12, 5, 18, 1, 2, 21, 9, 3, 13, 11, 17, 20, 22]      Specificity: 0.8986486486486487\n",
            "Sol of ant  9  is : [7, 8, 1, 10, 0, 2, 11, 9, 13, 3, 16, 12]      Specificity: 0.8851351351351351\n",
            "Sol of best ant till now is : ['V8', 'V20', 'V19', 'V10', 'V9', 'V4', 'V12', 'V14', 'V6', 'V17', 'V18', 'V7']      Specificity: 0.8986486486486487\n",
            "Best_Sol length :   12\n",
            "Time Taken by iteration  1  is : 713.9516489505768\n",
            "Iteration No : 2\n",
            "###########Iteration :  2 ############\n",
            "Sol of ant  0  is : [11, 25, 2, 3, 6, 0, 4, 13, 15, 8, 16, 12, 19]      Specificity: 0.8851351351351351\n",
            "Sol of ant  1  is : [7, 0, 8, 11, 9, 19, 5, 13, 14, 16, 1, 18]      Specificity: 0.8851351351351351\n",
            "Sol of ant  2  is : [13, 2, 1, 7, 15, 5, 16, 12]      Specificity: 0.8851351351351351\n",
            "Sol of ant  3  is : [19, 0, 1, 2, 4, 9, 7, 3, 17, 16, 11]      Specificity: 0.8851351351351351\n",
            "Sol of ant  4  is : [11, 6, 3, 10, 9, 13, 15, 16, 26]      Specificity: 0.8918918918918919\n",
            "Sol of ant  5  is : [8, 1, 2, 3, 11, 21, 16, 14]      Specificity: 0.8716216216216216\n",
            "Sol of ant  6  is : [18, 19, 4, 8, 0, 9, 16, 10, 11, 3, 17]      Specificity: 0.8716216216216216\n",
            "Sol of ant  7  is : [16, 8, 2, 7, 1, 3, 14, 17, 21]      Specificity: 0.8851351351351351\n",
            "Sol of ant  8  is : [9, 3, 0, 14, 13, 16, 17, 20]      Specificity: 0.8986486486486487\n",
            "Sol of ant  9  is : [8, 0, 3, 14, 6, 5, 11, 2, 4, 15, 7, 12]      Specificity: 0.8513513513513513\n",
            "Sol of best ant till now is : ['V10', 'V4', 'V1', 'V15', 'V14', 'V17', 'V18', 'V21']      Specificity: 0.8986486486486487\n",
            "Best_Sol length :   8\n",
            "Time Taken by iteration  2  is : 654.5940418243408\n",
            "Iteration No : 3\n",
            "###########Iteration :  3 ############\n",
            "Sol of ant  0  is : [9, 11, 1, 16, 24, 8, 25]      Specificity: 0.8716216216216216\n",
            "Sol of ant  1  is : [20, 8, 11, 3, 2, 14, 9, 4, 7, 16, 15, 22]      Specificity: 0.8783783783783784\n",
            "Sol of ant  2  is : [20, 5, 8, 3, 11, 12, 4, 16, 13, 2, 15]      Specificity: 0.8851351351351351\n",
            "Sol of ant  3  is : [9, 13, 11, 21, 3, 7, 17]      Specificity: 0.9054054054054054\n",
            "Sol of ant  4  is : [0, 3, 13, 7]      Specificity: 0.8648648648648649\n",
            "Sol of ant  5  is : [14, 17, 0, 9, 1, 2, 20, 13, 3, 11]      Specificity: 0.8783783783783784\n",
            "Sol of ant  6  is : [20, 3, 4, 0, 17, 9, 13, 8, 16, 22]      Specificity: 0.9054054054054054\n",
            "Sol of ant  7  is : [17, 14, 4, 5, 1, 8, 6, 11, 0, 2, 13, 16]      Specificity: 0.8783783783783784\n",
            "Sol of ant  8  is : [17, 0, 6, 8, 2, 1, 16, 13, 3, 4, 27]      Specificity: 0.8918918918918919\n",
            "Sol of ant  9  is : [20, 2, 0, 9, 3, 7, 11, 22, 17, 21]      Specificity: 0.8851351351351351\n",
            "Sol of best ant till now is : ['V10', 'V14', 'V12', 'V22', 'V4', 'V8', 'V18']      Specificity: 0.9054054054054054\n",
            "Best_Sol length :   7\n",
            "Time Taken by iteration  3  is : 624.6673951148987\n",
            "Iteration No : 4\n",
            "###########Iteration :  4 ############\n",
            "Sol of ant  0  is : [11, 18, 1, 0, 6, 5, 2, 3, 10, 13, 8, 12]      Specificity: 0.8581081081081081\n",
            "Sol of ant  1  is : [7, 0, 6, 15, 26, 1, 2, 16, 13, 9, 12]      Specificity: 0.8851351351351351\n",
            "Sol of ant  2  is : [9, 2, 13, 0, 3, 11, 12, 5]      Specificity: 0.8783783783783784\n",
            "Sol of ant  3  is : [7, 4, 2, 25, 1, 15, 3, 16, 9, 13, 12, 5]      Specificity: 0.8918918918918919\n",
            "Sol of ant  4  is : [3, 1, 4, 10, 5, 11, 0, 2, 17]      Specificity: 0.8581081081081081\n",
            "Sol of ant  5  is : [21, 15, 16, 10, 25, 13, 12, 9, 3]      Specificity: 0.8851351351351351\n",
            "Sol of ant  6  is : [17, 11, 0, 6, 1, 2, 8, 5, 13, 14, 16, 23, 20]      Specificity: 0.8918918918918919\n",
            "Sol of ant  7  is : [13, 8, 16, 0, 3, 4, 14]      Specificity: 0.8918918918918919\n",
            "Sol of ant  8  is : [3, 1, 14, 17, 0, 2, 4, 16, 11, 13]      Specificity: 0.8783783783783784\n",
            "Sol of ant  9  is : [9, 11, 5, 0, 1, 13, 16, 3, 21, 17, 10, 24]      Specificity: 0.9121621621621622\n",
            "Sol of best ant till now is : ['V10', 'V12', 'V6', 'V1', 'V2', 'V14', 'V17', 'V4', 'V22', 'V18', 'V11', 'V25']      Specificity: 0.9121621621621622\n",
            "Best_Sol length :   12\n",
            "Time Taken by iteration  4  is : 689.2387511730194\n",
            "Iteration No : 5\n",
            "###########Iteration :  5 ############\n",
            "Sol of ant  0  is : [10, 0, 4, 1, 3, 9, 8, 11, 13, 17, 5, 21, 16, 7, 22]      Specificity: 0.9054054054054054\n",
            "Sol of ant  1  is : [0, 5, 22, 6, 9, 3, 13, 15, 11, 25]      Specificity: 0.8851351351351351\n",
            "Sol of ant  2  is : [17, 6, 7, 3, 8, 10, 2, 5, 0, 13, 16, 25]      Specificity: 0.8716216216216216\n",
            "Sol of ant  3  is : [16, 15, 3, 1, 9]      Specificity: 0.8851351351351351\n",
            "Sol of ant  4  is : [11, 2, 5, 1, 6, 0, 3, 7, 8]      Specificity: 0.8513513513513513\n",
            "Sol of ant  5  is : [24, 3, 13, 6, 11, 0, 26, 16, 9, 21, 17, 4]      Specificity: 0.9054054054054054\n",
            "Sol of ant  6  is : [9, 13, 7, 0, 1, 16]      Specificity: 0.8851351351351351\n",
            "Sol of ant  7  is : [16, 1, 10, 0, 6, 11, 2, 13]      Specificity: 0.8716216216216216\n",
            "Sol of ant  8  is : [21, 8, 0, 2, 11, 9, 4, 3, 13, 22, 17, 5]      Specificity: 0.8783783783783784\n",
            "Sol of ant  9  is : [24, 11, 6, 3, 5, 9, 1, 17, 16, 2, 13, 10, 7]      Specificity: 0.8986486486486487\n",
            "Sol of best ant till now is : ['V10', 'V12', 'V6', 'V1', 'V2', 'V14', 'V17', 'V4', 'V22', 'V18', 'V11', 'V25']      Specificity: 0.9121621621621622\n",
            "Best_Sol length :   12\n",
            "Time Taken by iteration  5  is : 708.0724411010742\n",
            "Iteration No : 6\n",
            "###########Iteration :  6 ############\n",
            "Sol of ant  0  is : [24, 2, 13, 8, 11, 5, 15, 17]      Specificity: 0.8783783783783784\n",
            "Sol of ant  1  is : [24, 6, 0, 26, 9, 3, 11, 13, 17, 16, 21, 4]      Specificity: 0.9054054054054054\n",
            "Sol of ant  2  is : [0, 1, 5, 3, 15, 2, 17, 6, 10, 13, 14, 8, 11, 7, 16, 21, 22]      Specificity: 0.8918918918918919\n",
            "Sol of ant  3  is : [3, 8, 7, 6, 1, 18, 2, 9, 10, 16, 20, 27]      Specificity: 0.8716216216216216\n",
            "Sol of ant  4  is : [21, 11, 2, 9, 0, 3, 16, 17, 22]      Specificity: 0.8851351351351351\n",
            "Sol of ant  5  is : [5, 4, 7, 16, 8, 10, 1, 9, 13, 15]      Specificity: 0.8716216216216216\n",
            "Sol of ant  6  is : [13, 18, 0, 8, 4]      Specificity: 0.8581081081081081\n",
            "Sol of ant  7  is : [21, 0, 15, 2, 1, 8, 11, 13, 7]      Specificity: 0.8716216216216216\n",
            "Sol of ant  8  is : [21, 0, 6, 2, 4, 10, 3, 20, 8, 7, 11, 13, 9, 17, 1, 25, 24, 16]      Specificity: 0.8918918918918919\n",
            "Sol of ant  9  is : [1, 6, 8, 2, 16, 10, 9, 11]      Specificity: 0.8648648648648649\n",
            "Sol of best ant till now is : ['V10', 'V12', 'V6', 'V1', 'V2', 'V14', 'V17', 'V4', 'V22', 'V18', 'V11', 'V25']      Specificity: 0.9121621621621622\n",
            "Best_Sol length :   12\n",
            "Time Taken by iteration  6  is : 809.7370939254761\n",
            "Iteration No : 7\n",
            "###########Iteration :  7 ############\n",
            "Sol of ant  0  is : [5, 10, 3, 2, 15, 9, 8, 13, 16, 17]      Specificity: 0.8851351351351351\n",
            "Sol of ant  1  is : [21, 26, 0, 23, 5, 2, 15, 6, 3, 19, 13, 7, 16, 9, 27, 17, 25]      Specificity: 0.8918918918918919\n",
            "Sol of ant  2  is : [17, 11, 21, 8, 15, 0, 9, 1, 3, 24, 16]      Specificity: 0.8918918918918919\n",
            "Sol of ant  3  is : [13, 5, 9, 16, 17, 3, 7]      Specificity: 0.8986486486486487\n",
            "Sol of ant  4  is : [5, 4, 7, 10, 9, 11, 2, 1, 8, 21]      Specificity: 0.8581081081081081\n",
            "Sol of ant  5  is : [24, 0, 9, 3, 16, 7]      Specificity: 0.8783783783783784\n",
            "Sol of ant  6  is : [5, 7, 1, 20, 4, 0, 3, 2, 13, 15, 11, 8, 12, 16, 17]      Specificity: 0.8851351351351351\n",
            "Sol of ant  7  is : [16, 8, 12, 1, 2, 17, 13, 0]      Specificity: 0.8851351351351351\n",
            "Sol of ant  8  is : [11, 4, 0, 6, 2, 3, 7, 15, 5, 16, 1, 12, 13]      Specificity: 0.8783783783783784\n",
            "Sol of ant  9  is : [17, 20, 9, 3, 13, 18, 16, 4]      Specificity: 0.8986486486486487\n",
            "Sol of best ant till now is : ['V10', 'V12', 'V6', 'V1', 'V2', 'V14', 'V17', 'V4', 'V22', 'V18', 'V11', 'V25']      Specificity: 0.9121621621621622\n",
            "Best_Sol length :   12\n",
            "Time Taken by iteration  7  is : 750.000372171402\n",
            "Iteration No : 8\n",
            "###########Iteration :  8 ############\n",
            "Sol of ant  0  is : [24, 8, 6, 7, 0, 2, 10, 15, 11, 1, 13, 14, 17, 9]      Specificity: 0.8716216216216216\n",
            "Sol of ant  1  is : [16, 3, 1, 11, 2, 13, 15, 7]      Specificity: 0.8851351351351351\n",
            "Sol of ant  2  is : [5, 13, 9, 3, 21, 11, 7, 16, 1]      Specificity: 0.8918918918918919\n",
            "Sol of ant  3  is : [13, 5, 17, 16, 9, 3, 7]      Specificity: 0.8986486486486487\n",
            "Sol of ant  4  is : [9, 3, 20, 22, 16, 13, 7, 17]      Specificity: 0.8986486486486487\n",
            "Sol of ant  5  is : [3, 2, 6, 23, 0, 15, 13, 9, 11, 16, 12, 14]      Specificity: 0.8851351351351351\n",
            "Sol of ant  6  is : [9, 2, 1, 3, 4, 11, 16, 13, 0, 21, 12]      Specificity: 0.8986486486486487\n",
            "Sol of ant  7  is : [17, 1, 20, 3, 0, 2, 6, 16, 11, 13, 9]      Specificity: 0.8851351351351351\n",
            "Sol of ant  8  is : [0, 3, 6, 21, 9, 7, 16, 11, 13, 20, 17]      Specificity: 0.9054054054054054\n",
            "Sol of ant  9  is : [1, 3, 10, 13, 4, 6, 2, 11, 16, 9, 7, 17, 21, 24, 25]      Specificity: 0.9054054054054054\n",
            "Sol of best ant till now is : ['V10', 'V12', 'V6', 'V1', 'V2', 'V14', 'V17', 'V4', 'V22', 'V18', 'V11', 'V25']      Specificity: 0.9121621621621622\n",
            "Best_Sol length :   12\n",
            "Time Taken by iteration  8  is : 766.0100357532501\n",
            "Iteration No : 9\n",
            "###########Iteration :  9 ############\n",
            "Sol of ant  0  is : [3, 2, 8, 9, 5, 11, 16, 10, 13, 7, 6]      Specificity: 0.8851351351351351\n",
            "Sol of ant  1  is : [13, 2, 0, 8, 9, 14, 7]      Specificity: 0.8648648648648649\n",
            "Sol of ant  2  is : [5, 10, 8, 14, 0, 4, 15, 6, 9, 3, 13, 11, 20, 16]      Specificity: 0.8783783783783784\n",
            "Sol of ant  3  is : [1, 17, 6, 3, 0, 5, 9, 11, 7, 16, 13, 14]      Specificity: 0.8918918918918919\n",
            "Sol of ant  4  is : [3, 4, 17, 8, 5, 20, 11, 13, 14, 21, 15]      Specificity: 0.8851351351351351\n",
            "Sol of ant  5  is : [21, 8, 18, 9, 22, 15, 3, 11, 13, 0, 5, 17, 20, 23]      Specificity: 0.9054054054054054\n",
            "Sol of ant  6  is : [17, 20, 19, 0, 7, 1, 2, 4, 6, 13, 8, 16]      Specificity: 0.8783783783783784\n",
            "Sol of ant  7  is : [21, 0, 8, 1, 10, 4, 6, 7, 9, 11, 3, 5, 15, 14, 13]      Specificity: 0.8783783783783784\n",
            "Sol of ant  8  is : [0, 11, 6, 10, 2, 1, 5, 9, 16, 3, 13]      Specificity: 0.8783783783783784\n",
            "Sol of ant  9  is : [16, 14, 1, 8, 9, 6, 3, 11, 17]      Specificity: 0.8783783783783784\n",
            "Sol of best ant till now is : ['V10', 'V12', 'V6', 'V1', 'V2', 'V14', 'V17', 'V4', 'V22', 'V18', 'V11', 'V25']      Specificity: 0.9121621621621622\n",
            "Best_Sol length :   12\n",
            "Time Taken by iteration  9  is : 911.5726974010468\n",
            "Total time by ACO (in sec):  7394.473710775375\n",
            "Best_Sol  :   ['V10', 'V12', 'V6', 'V1', 'V2', 'V14', 'V17', 'V4', 'V22', 'V18', 'V11', 'V25']\n",
            "Best_Sol length :   12\n",
            "Specificity of Best_ant solution is : 0.9121621621621622\n"
          ],
          "name": "stdout"
        }
      ]
    }
  ]
}