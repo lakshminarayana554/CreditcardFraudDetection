{
  "nbformat": 4,
  "nbformat_minor": 0,
  "metadata": {
    "colab": {
      "name": "credit_card.ipynb",
      "provenance": [],
      "collapsed_sections": []
    },
    "kernelspec": {
      "display_name": "Python 3",
      "name": "python3"
    },
    "language_info": {
      "name": "python"
    }
  },
  "cells": [
    {
      "cell_type": "code",
      "metadata": {
        "id": "wtFeqssJlKF8"
      },
      "source": [
        "\n",
        "import sys\n",
        "import math\n",
        "import time\n",
        "from random import randint,choice, shuffle, random\n",
        "from statistics import mode\n",
        "import pandas as pd\n",
        "import seaborn as sns\n",
        "import matplotlib.pyplot as plt\n",
        "import numpy as np\n",
        "from scipy import stats\n",
        "# from sklearn import svm\n",
        "from sklearn.model_selection import train_test_split\n",
        "from sklearn.metrics import *\n",
        "from sklearn.preprocessing import LabelEncoder\n",
        "from sklearn.feature_selection import *\n",
        "# from sklearn.neighbors import KNeighborsClassifier\n",
        "# from sklearn import tree\n",
        "\n",
        "from sklearn.linear_model import LogisticRegression\n",
        "from sklearn.model_selection import GridSearchCV\n",
        "from sklearn.metrics import make_scorer\n",
        "from sklearn.metrics import confusion_matrix \n",
        "\n",
        "def specificity(y_true, y_predicted):\n",
        " tp,fp,fn,tn = confusion_matrix(y_true, y_predicted).ravel()\n",
        " s=tn/(tn+fp)\n",
        " return s\n",
        "\n",
        "my_scorer = make_scorer(specificity, greater_is_better=True)\n",
        "\n",
        "\n",
        "\n"
      ],
      "execution_count": 4,
      "outputs": []
    },
    {
      "cell_type": "code",
      "metadata": {
        "id": "zK-mLrTLmLMT"
      },
      "source": [
        "data=pd.read_csv('/content/drive/MyDrive/Colab Notebooks/M_dataset/creditcardM.csv')\n",
        "data.drop('Time',axis=1,inplace=True)\n"
      ],
      "execution_count": 5,
      "outputs": []
    },
    {
      "cell_type": "code",
      "metadata": {
        "colab": {
          "base_uri": "https://localhost:8080/"
        },
        "id": "0R5id-DWh-x8",
        "outputId": "5fdfe5f6-6644-41d0-ade1-337301275e22"
      },
      "source": [
        "\n",
        "data[(data['Class']==1)].index"
      ],
      "execution_count": 7,
      "outputs": [
        {
          "output_type": "execute_result",
          "data": {
            "text/plain": [
              "Int64Index([  25,   40,   51,   58,   82,   98,  123,  150,  160,  178,\n",
              "            ...\n",
              "            9844, 9849, 9861, 9907, 9914, 9922, 9927, 9948, 9968, 9979],\n",
              "           dtype='int64', length=492)"
            ]
          },
          "metadata": {
            "tags": []
          },
          "execution_count": 7
        }
      ]
    },
    {
      "cell_type": "code",
      "metadata": {
        "id": "bM9SzpIJHzLr"
      },
      "source": [
        "col_names=list(data.columns)\n",
        "Att_names=col_names[:-1]\n",
        "Class_names=data[\"Class\"].unique()"
      ],
      "execution_count": 8,
      "outputs": []
    },
    {
      "cell_type": "code",
      "metadata": {
        "colab": {
          "base_uri": "https://localhost:8080/"
        },
        "id": "pt5lAz-CH2JG",
        "outputId": "20256a1b-2e8d-42b5-8103-e92666c2336f"
      },
      "source": [
        "n_att = len(Att_names)\n",
        "n_att\n",
        "\n",
        "\n",
        " "
      ],
      "execution_count": 9,
      "outputs": [
        {
          "output_type": "execute_result",
          "data": {
            "text/plain": [
              "29"
            ]
          },
          "metadata": {
            "tags": []
          },
          "execution_count": 9
        }
      ]
    },
    {
      "cell_type": "code",
      "metadata": {
        "id": "cVOb89Asma2W"
      },
      "source": [
        "\n",
        "train_data, test_data = train_test_split(data, test_size=0.3)\n",
        "train_x=train_data.iloc[:,:-1].values\n",
        "train_y=train_data[\"Class\"].values\n",
        "test_x=test_data.iloc[:,:-1].values\n",
        "test_y=test_data[\"Class\"].values\n"
      ],
      "execution_count": 10,
      "outputs": []
    },
    {
      "cell_type": "markdown",
      "metadata": {
        "id": "dJ5YnA_Bt5YP"
      },
      "source": [
        "LogisticRegression\n"
      ]
    },
    {
      "cell_type": "code",
      "metadata": {
        "id": "C3ufT2_ZoHqx"
      },
      "source": [
        "\n",
        "# Logestic LogisticRegression\n",
        "\n",
        "clf=GridSearchCV(LogisticRegression(max_iter=100,n_jobs=-1,class_weight='balanced'),scoring=my_scorer,param_grid={'C':[0.1]})\n",
        "\n",
        "\n",
        "\n",
        "\n"
      ],
      "execution_count": 11,
      "outputs": []
    },
    {
      "cell_type": "code",
      "metadata": {
        "id": "1NQg3y-wINie"
      },
      "source": [
        "#Constants\n",
        "#pheromone concentration influence \n",
        "alpha = 0.5 \n",
        "#MI influence\n",
        "beta = 0.5\n",
        "#pheromone evoparation\n",
        "rho = 0.1\n",
        "#Pheromone diposite level\n",
        "q = 0.5\n",
        "epsilon = 0.001"
      ],
      "execution_count": 12,
      "outputs": []
    },
    {
      "cell_type": "code",
      "metadata": {
        "colab": {
          "base_uri": "https://localhost:8080/"
        },
        "id": "my3a9TV0IPXE",
        "outputId": "4bc53260-00bb-48cb-ba37-dde6d6e73c83"
      },
      "source": [
        "clf.fit(train_x,train_y)\n",
        "clf.score(test_x,test_y)\n"
      ],
      "execution_count": 13,
      "outputs": [
        {
          "output_type": "execute_result",
          "data": {
            "text/plain": [
              "0.6746411483253588"
            ]
          },
          "metadata": {
            "tags": []
          },
          "execution_count": 13
        }
      ]
    },
    {
      "cell_type": "code",
      "metadata": {
        "colab": {
          "base_uri": "https://localhost:8080/"
        },
        "id": "H8Rbl8tTIR9q",
        "outputId": "d483abc3-7649-4391-9163-a3085617a852"
      },
      "source": [
        "\n",
        "# number of ants and number of iterations\n",
        "tset = list(range(n_att))\n",
        "n_ants = 10\n",
        "n_iter = 10\n",
        "ants=[[] for x in range(n_ants)]\n",
        "ac_ants=[0 for x in range(n_ants)]\n",
        "best_tour = tset.copy()\n",
        "best_ac=clf.fit(train_x[:,best_tour],train_y).score(test_x[:,best_tour],test_y)\n",
        "#Intializing Pheromone\n",
        "ph_trail = []\n",
        "for i in range(n_att):\n",
        "    p_r = [0.5 for j in range(n_att)]\n",
        "    p_r[i] = 0\n",
        "    ph_trail.append(p_r)\n",
        "t_time_s = time.time()\n",
        "t_t_time = 0\n",
        "for i in range(n_iter):\n",
        "    print(\"Iteration No :\", i)\n",
        "    at_time_s = time.time()\n",
        "    for a in range(n_ants):\n",
        "        ants[a]=[choice(best_tour)]\n",
        "        while True:\n",
        "            change=False\n",
        "            mic = clf.fit(train_x[:,ants[a]],train_y).score(test_x[:,ants[a]],test_y)\n",
        "            next_pos = {}\n",
        "            max_next = []\n",
        "            for at in range(n_att):\n",
        "                if at not in ants[a]:\n",
        "                    ph=0\n",
        "                    hi = clf.fit(train_x[:,ants[a]+[at]],train_y).score(test_x[:,ants[a]+[at]],test_y)- mic\n",
        "                    hi= 0 if hi<=0 else hi\n",
        "                    for x_pos in ants[a]:\n",
        "                        ph+=ph_trail[x_pos][at]\n",
        "                    ph=ph/len(ants[a])\n",
        "                    t_value = (hi ** beta) * (ph ** alpha)\n",
        "                    if t_value>0:\n",
        "                        max_next.append((t_value,at))\n",
        "            if(len(max_next)):    \n",
        "                pr=randint(0,len(max_next)-1)\n",
        "                n_at = max_next[randint(0, pr)][1]\n",
        "                ants[a].append(n_at)\n",
        "                change=True\n",
        "            if change==False:\n",
        "                break\n",
        "    for a in range(n_ants):\n",
        "        ascore=clf.fit(train_x[:,ants[a]],train_y).score(test_x[:,ants[a]],test_y)\n",
        "        ac_ants[a]=(ascore)\n",
        "        bscore=best_ac\n",
        "        if ascore>bscore:\n",
        "            best_tour = ants[a].copy()\n",
        "            best_ac=ac_ants[a]\n",
        "        elif ascore==bscore:\n",
        "            if len(ants[a])<len(best_tour):\n",
        "                best_tour = ants[a].copy()\n",
        "                best_ac=ac_ants[a]\n",
        "    for a in range(n_ants):\n",
        "        for k in ants[a]:\n",
        "            for j in ants[a]:\n",
        "                if k != j:\n",
        "                    ph_trail[k][j] += ph_trail[k][j] *  ac_ants[a]/ len(ants[a])\n",
        "                    if ph_trail[k][j]>1:\n",
        "                        ph_trail[k][j]=1\n",
        "    for k in best_tour:\n",
        "        for j in best_tour:\n",
        "            if k != j:\n",
        "                ph_trail[k][j] += ph_trail[k][j] *  best_ac/ len(ants[a])\n",
        "                if ph_trail[k][j]>1:\n",
        "                    ph_trail[k][j]=1\n",
        "    for j in range(n_att):\n",
        "        for k in range(n_att):\n",
        "            if k!=j:\n",
        "                ph_trail[j][k]*=(1-rho)\n",
        "    at_time_e = time.time()\n",
        "    tempset=set()\n",
        "    print(\"###########Iteration : \",i,\"############\")\n",
        "    for a in range(n_ants):\n",
        "        print(\"Sol of ant \",a,\" is :\",ants[a],\"     Specificity:\",ac_ants[a])\n",
        "    print(\"Sol of best ant till now is :\",[Att_names[x] for x in best_tour],\"     Specificity:\",best_ac)\n",
        "    print(\"Best_Sol length :  \", len(best_tour))\n",
        "    print(\"Time Taken by iteration \", i, \" is :\", at_time_e - at_time_s)\n",
        "t_time_e = time.time()\n",
        "print(\"Total time by ACO (in sec): \", t_time_e - t_time_s)\n",
        "print(\"Best_Sol  :  \", [Att_names[x] for x in best_tour])\n",
        "print(\"Best_Sol length :  \", len(best_tour))\n",
        "print(\"Specificity of Best_ant solution is :\",best_ac)\n"
      ],
      "execution_count": 14,
      "outputs": [
        {
          "output_type": "stream",
          "text": [
            "Iteration No : 0\n",
            "###########Iteration :  0 ############\n",
            "Sol of ant  0  is : [15, 1, 9, 5, 13, 25, 6, 20, 12]      Specificity: 0.7431693989071039\n",
            "Sol of ant  1  is : [24, 2, 16, 8, 3, 9, 6, 17, 1, 0]      Specificity: 0.6811594202898551\n",
            "Sol of ant  2  is : [21, 3, 1, 5, 8, 10, 0, 11, 13, 15, 2, 4, 7, 25, 12, 22, 18, 24]      Specificity: 0.7064676616915423\n",
            "Sol of ant  3  is : [10, 6, 2, 15, 8, 9, 0, 3, 19, 28, 26]      Specificity: 0.7106598984771574\n",
            "Sol of ant  4  is : [4, 2, 13, 11, 8, 7, 5, 15, 1, 14]      Specificity: 0.7202072538860104\n",
            "Sol of ant  5  is : [19, 0, 13, 15, 6, 8, 11, 18, 14, 25]      Specificity: 0.7597765363128491\n",
            "Sol of ant  6  is : [6, 2, 9, 1, 14, 3, 25, 8]      Specificity: 0.693069306930693\n",
            "Sol of ant  7  is : [28, 15, 0, 9, 12, 1, 2, 3, 8, 10, 7, 24, 20, 18, 5, 25, 27]      Specificity: 0.7128205128205128\n",
            "Sol of ant  8  is : [21, 0, 7, 1, 3, 2, 16, 9, 10, 4]      Specificity: 0.6666666666666666\n",
            "Sol of ant  9  is : [6, 1, 9, 8, 12, 14, 11, 18, 5, 0, 20, 15, 23]      Specificity: 0.7823529411764706\n",
            "Sol of best ant till now is : ['V7', 'V2', 'V10', 'V9', 'V13', 'V15', 'V12', 'V19', 'V6', 'V1', 'V21', 'V16', 'V24']      Specificity: 0.7823529411764706\n",
            "Best_Sol length :   13\n",
            "Time Taken by iteration  0  is : 830.3427155017853\n",
            "Iteration No : 1\n",
            "###########Iteration :  1 ############\n",
            "Sol of ant  0  is : [11, 0, 9, 19, 8, 5, 3, 4, 15, 10, 2]      Specificity: 0.71\n",
            "Sol of ant  1  is : [1, 9, 2, 11, 27, 8, 12, 10, 5, 15, 6, 19, 20]      Specificity: 0.7348066298342542\n",
            "Sol of ant  2  is : [12, 6, 5, 13, 8, 7, 9, 16, 23]      Specificity: 0.69\n",
            "Sol of ant  3  is : [11, 9, 12, 8, 10, 3]      Specificity: 0.6865671641791045\n",
            "Sol of ant  4  is : [23, 3, 2, 1, 11, 18, 4, 9, 0, 22, 19, 8, 15, 25]      Specificity: 0.7029702970297029\n",
            "Sol of ant  5  is : [11, 10, 2, 13, 3, 6, 27, 25]      Specificity: 0.696078431372549\n",
            "Sol of ant  6  is : [6, 13, 5, 27, 10, 8, 15, 11, 25]      Specificity: 0.7431693989071039\n",
            "Sol of ant  7  is : [23, 5, 16, 1, 13, 4, 8, 15, 18, 17]      Specificity: 0.7172774869109948\n",
            "Sol of ant  8  is : [1, 4, 15, 9, 19, 8, 20, 13, 0, 18, 7, 3, 24]      Specificity: 0.7014925373134329\n",
            "Sol of ant  9  is : [0, 12, 4, 9, 17, 13, 15, 1, 5, 6, 20, 8]      Specificity: 0.685\n",
            "Sol of best ant till now is : ['V7', 'V2', 'V10', 'V9', 'V13', 'V15', 'V12', 'V19', 'V6', 'V1', 'V21', 'V16', 'V24']      Specificity: 0.7823529411764706\n",
            "Best_Sol length :   13\n",
            "Time Taken by iteration  1  is : 635.0483825206757\n",
            "Iteration No : 2\n",
            "###########Iteration :  2 ############\n",
            "Sol of ant  0  is : [18, 2, 0, 17, 4, 3, 9, 10, 25, 5, 7, 16, 1, 8]      Specificity: 0.7064676616915423\n",
            "Sol of ant  1  is : [15, 2, 26, 13, 5, 8, 0, 18, 24, 6]      Specificity: 0.7301587301587301\n",
            "Sol of ant  2  is : [6, 15, 5, 3, 9, 8, 2, 25, 0, 1, 10, 14, 19, 18, 27]      Specificity: 0.7193877551020408\n",
            "Sol of ant  3  is : [20, 6, 5, 17, 22, 25, 16, 4, 1, 24]      Specificity: 0.7126436781609196\n",
            "Sol of ant  4  is : [20, 4, 10, 6, 24, 11, 12, 2, 13, 1, 8, 15, 22, 26]      Specificity: 0.6965174129353234\n",
            "Sol of ant  5  is : [5, 11, 1, 10, 2, 0, 8, 13, 9, 19]      Specificity: 0.6715686274509803\n",
            "Sol of ant  6  is : [23, 6, 0, 2, 1, 5, 19, 9, 8, 3, 20, 11, 27, 24, 26]      Specificity: 0.7208121827411168\n",
            "Sol of ant  7  is : [5, 8, 2, 0, 3, 10, 6, 18, 15, 22, 9, 4, 14, 19, 24]      Specificity: 0.7193877551020408\n",
            "Sol of ant  8  is : [5, 16]      Specificity: 0.815068493150685\n",
            "Sol of ant  9  is : [18, 2, 13, 15, 8, 19, 5, 6, 25]      Specificity: 0.7340425531914894\n",
            "Sol of best ant till now is : ['V6', 'V17']      Specificity: 0.815068493150685\n",
            "Best_Sol length :   2\n",
            "Time Taken by iteration  2  is : 713.5797436237335\n",
            "Iteration No : 3\n",
            "###########Iteration :  3 ############\n",
            "Sol of ant  0  is : [5, 6, 19, 9, 15, 27, 1, 2, 0, 13, 8]      Specificity: 0.7150259067357513\n",
            "Sol of ant  1  is : [16]      Specificity: 1.0\n",
            "Sol of ant  2  is : [16]      Specificity: 1.0\n",
            "Sol of ant  3  is : [5, 4, 1, 9, 2, 3, 20, 11, 14, 19, 22]      Specificity: 0.7185929648241206\n",
            "Sol of ant  4  is : [16]      Specificity: 1.0\n",
            "Sol of ant  5  is : [16]      Specificity: 1.0\n",
            "Sol of ant  6  is : [5, 4, 16, 26, 21]      Specificity: 0.8472222222222222\n",
            "Sol of ant  7  is : [5, 1, 2, 16, 3, 6, 10, 19, 9, 13]      Specificity: 0.6778846153846154\n",
            "Sol of ant  8  is : [16]      Specificity: 1.0\n",
            "Sol of ant  9  is : [5, 3, 7, 4, 16, 1, 2, 17, 13, 15, 14, 19, 8, 9, 26, 10, 6, 18, 20]      Specificity: 0.6893203883495146\n",
            "Sol of best ant till now is : ['V17']      Specificity: 1.0\n",
            "Best_Sol length :   1\n",
            "Time Taken by iteration  3  is : 380.6445953845978\n",
            "Iteration No : 4\n",
            "###########Iteration :  4 ############\n",
            "Sol of ant  0  is : [16]      Specificity: 1.0\n",
            "Sol of ant  1  is : [16]      Specificity: 1.0\n",
            "Sol of ant  2  is : [16]      Specificity: 1.0\n",
            "Sol of ant  3  is : [16]      Specificity: 1.0\n",
            "Sol of ant  4  is : [16]      Specificity: 1.0\n",
            "Sol of ant  5  is : [16]      Specificity: 1.0\n",
            "Sol of ant  6  is : [16]      Specificity: 1.0\n",
            "Sol of ant  7  is : [16]      Specificity: 1.0\n",
            "Sol of ant  8  is : [16]      Specificity: 1.0\n",
            "Sol of ant  9  is : [16]      Specificity: 1.0\n",
            "Sol of best ant till now is : ['V17']      Specificity: 1.0\n",
            "Best_Sol length :   1\n",
            "Time Taken by iteration  4  is : 46.9366021156311\n",
            "Iteration No : 5\n",
            "###########Iteration :  5 ############\n",
            "Sol of ant  0  is : [16]      Specificity: 1.0\n",
            "Sol of ant  1  is : [16]      Specificity: 1.0\n",
            "Sol of ant  2  is : [16]      Specificity: 1.0\n",
            "Sol of ant  3  is : [16]      Specificity: 1.0\n",
            "Sol of ant  4  is : [16]      Specificity: 1.0\n",
            "Sol of ant  5  is : [16]      Specificity: 1.0\n",
            "Sol of ant  6  is : [16]      Specificity: 1.0\n",
            "Sol of ant  7  is : [16]      Specificity: 1.0\n",
            "Sol of ant  8  is : [16]      Specificity: 1.0\n",
            "Sol of ant  9  is : [16]      Specificity: 1.0\n",
            "Sol of best ant till now is : ['V17']      Specificity: 1.0\n",
            "Best_Sol length :   1\n",
            "Time Taken by iteration  5  is : 46.818925619125366\n",
            "Iteration No : 6\n",
            "###########Iteration :  6 ############\n",
            "Sol of ant  0  is : [16]      Specificity: 1.0\n",
            "Sol of ant  1  is : [16]      Specificity: 1.0\n",
            "Sol of ant  2  is : [16]      Specificity: 1.0\n",
            "Sol of ant  3  is : [16]      Specificity: 1.0\n",
            "Sol of ant  4  is : [16]      Specificity: 1.0\n",
            "Sol of ant  5  is : [16]      Specificity: 1.0\n",
            "Sol of ant  6  is : [16]      Specificity: 1.0\n",
            "Sol of ant  7  is : [16]      Specificity: 1.0\n",
            "Sol of ant  8  is : [16]      Specificity: 1.0\n",
            "Sol of ant  9  is : [16]      Specificity: 1.0\n",
            "Sol of best ant till now is : ['V17']      Specificity: 1.0\n",
            "Best_Sol length :   1\n",
            "Time Taken by iteration  6  is : 46.94607329368591\n",
            "Iteration No : 7\n",
            "###########Iteration :  7 ############\n",
            "Sol of ant  0  is : [16]      Specificity: 1.0\n",
            "Sol of ant  1  is : [16]      Specificity: 1.0\n",
            "Sol of ant  2  is : [16]      Specificity: 1.0\n",
            "Sol of ant  3  is : [16]      Specificity: 1.0\n",
            "Sol of ant  4  is : [16]      Specificity: 1.0\n",
            "Sol of ant  5  is : [16]      Specificity: 1.0\n",
            "Sol of ant  6  is : [16]      Specificity: 1.0\n",
            "Sol of ant  7  is : [16]      Specificity: 1.0\n",
            "Sol of ant  8  is : [16]      Specificity: 1.0\n",
            "Sol of ant  9  is : [16]      Specificity: 1.0\n",
            "Sol of best ant till now is : ['V17']      Specificity: 1.0\n",
            "Best_Sol length :   1\n",
            "Time Taken by iteration  7  is : 47.21749949455261\n",
            "Iteration No : 8\n",
            "###########Iteration :  8 ############\n",
            "Sol of ant  0  is : [16]      Specificity: 1.0\n",
            "Sol of ant  1  is : [16]      Specificity: 1.0\n",
            "Sol of ant  2  is : [16]      Specificity: 1.0\n",
            "Sol of ant  3  is : [16]      Specificity: 1.0\n",
            "Sol of ant  4  is : [16]      Specificity: 1.0\n",
            "Sol of ant  5  is : [16]      Specificity: 1.0\n",
            "Sol of ant  6  is : [16]      Specificity: 1.0\n",
            "Sol of ant  7  is : [16]      Specificity: 1.0\n",
            "Sol of ant  8  is : [16]      Specificity: 1.0\n",
            "Sol of ant  9  is : [16]      Specificity: 1.0\n",
            "Sol of best ant till now is : ['V17']      Specificity: 1.0\n",
            "Best_Sol length :   1\n",
            "Time Taken by iteration  8  is : 47.37850880622864\n",
            "Iteration No : 9\n",
            "###########Iteration :  9 ############\n",
            "Sol of ant  0  is : [16]      Specificity: 1.0\n",
            "Sol of ant  1  is : [16]      Specificity: 1.0\n",
            "Sol of ant  2  is : [16]      Specificity: 1.0\n",
            "Sol of ant  3  is : [16]      Specificity: 1.0\n",
            "Sol of ant  4  is : [16]      Specificity: 1.0\n",
            "Sol of ant  5  is : [16]      Specificity: 1.0\n",
            "Sol of ant  6  is : [16]      Specificity: 1.0\n",
            "Sol of ant  7  is : [16]      Specificity: 1.0\n",
            "Sol of ant  8  is : [16]      Specificity: 1.0\n",
            "Sol of ant  9  is : [16]      Specificity: 1.0\n",
            "Sol of best ant till now is : ['V17']      Specificity: 1.0\n",
            "Best_Sol length :   1\n",
            "Time Taken by iteration  9  is : 47.4404091835022\n",
            "Total time by ACO (in sec):  2842.428321838379\n",
            "Best_Sol  :   ['V17']\n",
            "Best_Sol length :   1\n",
            "Specificity of Best_ant solution is : 1.0\n"
          ],
          "name": "stdout"
        }
      ]
    }
  ]
}