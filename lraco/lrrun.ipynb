{
  "nbformat": 4,
  "nbformat_minor": 0,
  "metadata": {
    "colab": {
      "name": "LR (1)new.ipynb",
      "provenance": [],
      "collapsed_sections": []
    },
    "kernelspec": {
      "display_name": "Python 3",
      "name": "python3"
    },
    "language_info": {
      "name": "python"
    }
  },
  "cells": [
    {
      "cell_type": "code",
      "metadata": {
        "id": "wtFeqssJlKF8"
      },
      "source": [
        "\n",
        "import sys\n",
        "import math\n",
        "import time\n",
        "from random import randint,choice, shuffle, random\n",
        "from statistics import mode\n",
        "import pandas as pd\n",
        "import seaborn as sns\n",
        "import matplotlib.pyplot as plt\n",
        "import numpy as np\n",
        "from scipy import stats\n",
        "# from sklearn import svm\n",
        "from sklearn.model_selection import train_test_split\n",
        "from sklearn.metrics import *\n",
        "from sklearn.preprocessing import LabelEncoder\n",
        "from sklearn.feature_selection import *\n",
        "# from sklearn.neighbors import KNeighborsClassifier\n",
        "# from sklearn import tree\n",
        "\n",
        "from sklearn.linear_model import LogisticRegression\n",
        "from sklearn.model_selection import GridSearchCV\n",
        "from sklearn.metrics import make_scorer\n",
        "from sklearn.metrics import confusion_matrix \n",
        "\n",
        "def specificity(y_true, y_predicted):\n",
        " tp,fn,fp,tn = confusion_matrix(y_true, y_predicted).ravel()\n",
        " s=tn/(tn+fp)\n",
        " return s\n",
        "\n",
        "my_scorer = make_scorer(specificity, greater_is_better=True)\n",
        "\n",
        "\n",
        "\n"
      ],
      "execution_count": 6,
      "outputs": []
    },
    {
      "cell_type": "code",
      "metadata": {
        "id": "zK-mLrTLmLMT"
      },
      "source": [
        "data=pd.read_csv('/content/drive/MyDrive/Colab Notebooks/M_dataset/creditcardM.csv')\n",
        "data.drop('Time',axis=1,inplace=True)\n"
      ],
      "execution_count": 10,
      "outputs": []
    },
    {
      "cell_type": "code",
      "metadata": {
        "colab": {
          "base_uri": "https://localhost:8080/"
        },
        "id": "0R5id-DWh-x8",
        "outputId": "36387b24-3d9e-4352-f818-242f43216105"
      },
      "source": [
        "\n",
        "data[(data['Class']==1)].index"
      ],
      "execution_count": 11,
      "outputs": [
        {
          "output_type": "execute_result",
          "data": {
            "text/plain": [
              "Int64Index([  25,   40,   51,   58,   82,   98,  123,  150,  160,  178,\n",
              "            ...\n",
              "            9844, 9849, 9861, 9907, 9914, 9922, 9927, 9948, 9968, 9979],\n",
              "           dtype='int64', length=492)"
            ]
          },
          "metadata": {
            "tags": []
          },
          "execution_count": 11
        }
      ]
    },
    {
      "cell_type": "code",
      "metadata": {
        "id": "bM9SzpIJHzLr"
      },
      "source": [
        "col_names=list(data.columns)\n",
        "Att_names=col_names[:-1]\n",
        "Class_names=data[\"Class\"].unique()"
      ],
      "execution_count": 12,
      "outputs": []
    },
    {
      "cell_type": "code",
      "metadata": {
        "colab": {
          "base_uri": "https://localhost:8080/"
        },
        "id": "pt5lAz-CH2JG",
        "outputId": "05d1c94c-b645-40de-8745-9d52dd3adb52"
      },
      "source": [
        "n_att = len(Att_names)\n",
        "n_att\n",
        "\n",
        "\n",
        " "
      ],
      "execution_count": 13,
      "outputs": [
        {
          "output_type": "execute_result",
          "data": {
            "text/plain": [
              "29"
            ]
          },
          "metadata": {
            "tags": []
          },
          "execution_count": 13
        }
      ]
    },
    {
      "cell_type": "code",
      "metadata": {
        "id": "cVOb89Asma2W"
      },
      "source": [
        "\n",
        "train_data, test_data = train_test_split(data, test_size=0.3)\n",
        "train_x=train_data.iloc[:,:-1].values\n",
        "train_y=train_data[\"Class\"].values\n",
        "test_x=test_data.iloc[:,:-1].values\n",
        "test_y=test_data[\"Class\"].values\n"
      ],
      "execution_count": 14,
      "outputs": []
    },
    {
      "cell_type": "markdown",
      "metadata": {
        "id": "dJ5YnA_Bt5YP"
      },
      "source": [
        "LogisticRegression\n"
      ]
    },
    {
      "cell_type": "code",
      "metadata": {
        "id": "C3ufT2_ZoHqx"
      },
      "source": [
        "\n",
        "# Logestic LogisticRegression\n",
        "\n",
        "clf=GridSearchCV(LogisticRegression(max_iter=100,n_jobs=-1,class_weight='balanced'),scoring=my_scorer,param_grid={'C':[0.1]})\n",
        "\n",
        "\n",
        "\n",
        "\n"
      ],
      "execution_count": 15,
      "outputs": []
    },
    {
      "cell_type": "code",
      "metadata": {
        "id": "1NQg3y-wINie"
      },
      "source": [
        "#Constants\n",
        "#pheromone concentration influence \n",
        "alpha = 0.5 \n",
        "#MI influence\n",
        "beta = 0.5\n",
        "#pheromone evoparation\n",
        "rho = 0.1\n",
        "#Pheromone diposite level\n",
        "q = 0.5\n",
        "epsilon = 0.001"
      ],
      "execution_count": 16,
      "outputs": []
    },
    {
      "cell_type": "code",
      "metadata": {
        "colab": {
          "base_uri": "https://localhost:8080/"
        },
        "id": "my3a9TV0IPXE",
        "outputId": "48f23f28-14fd-43e2-bd83-577fda53062d"
      },
      "source": [
        "clf.fit(train_x,train_y)\n",
        "clf.score(test_x,test_y)\n"
      ],
      "execution_count": 17,
      "outputs": [
        {
          "output_type": "execute_result",
          "data": {
            "text/plain": [
              "0.8843537414965986"
            ]
          },
          "metadata": {
            "tags": []
          },
          "execution_count": 17
        }
      ]
    },
    {
      "cell_type": "code",
      "metadata": {
        "colab": {
          "base_uri": "https://localhost:8080/"
        },
        "id": "H8Rbl8tTIR9q",
        "outputId": "88130468-a2c7-440d-8ec9-9c64a9172443"
      },
      "source": [
        "\n",
        "# number of ants and number of iterations\n",
        "tset = list(range(n_att))\n",
        "n_ants = 10\n",
        "n_iter = 10\n",
        "ants=[[] for x in range(n_ants)]\n",
        "ac_ants=[0 for x in range(n_ants)]\n",
        "best_tour = tset.copy()\n",
        "best_ac=clf.fit(train_x[:,best_tour],train_y).score(test_x[:,best_tour],test_y)\n",
        "#Intializing Pheromone\n",
        "ph_trail = []\n",
        "for i in range(n_att):\n",
        "    p_r = [0.5 for j in range(n_att)]\n",
        "    p_r[i] = 0\n",
        "    ph_trail.append(p_r)\n",
        "t_time_s = time.time()\n",
        "t_t_time = 0\n",
        "for i in range(n_iter):\n",
        "    print(\"Iteration No :\", i)\n",
        "    at_time_s = time.time()\n",
        "    for a in range(n_ants):\n",
        "        ants[a]=[choice(best_tour)]\n",
        "        while True:\n",
        "            change=False\n",
        "            mic = clf.fit(train_x[:,ants[a]],train_y).score(test_x[:,ants[a]],test_y)\n",
        "            next_pos = {}\n",
        "            max_next = []\n",
        "            for at in range(n_att):\n",
        "                if at not in ants[a]:\n",
        "                    ph=0\n",
        "                    hi = clf.fit(train_x[:,ants[a]+[at]],train_y).score(test_x[:,ants[a]+[at]],test_y)- mic\n",
        "                    hi= 0 if hi<=0 else hi\n",
        "                    for x_pos in ants[a]:\n",
        "                        ph+=ph_trail[x_pos][at]\n",
        "                    ph=ph/len(ants[a])\n",
        "                    t_value = (hi ** beta) * (ph ** alpha)\n",
        "                    if t_value>0:\n",
        "                        max_next.append((t_value,at))\n",
        "            if(len(max_next)):    \n",
        "                pr=randint(0,len(max_next)-1)\n",
        "                n_at = max_next[randint(0, pr)][1]\n",
        "                ants[a].append(n_at)\n",
        "                change=True\n",
        "            if change==False:\n",
        "                break\n",
        "    for a in range(n_ants):\n",
        "        ascore=clf.fit(train_x[:,ants[a]],train_y).score(test_x[:,ants[a]],test_y)\n",
        "        ac_ants[a]=(ascore)\n",
        "        bscore=best_ac\n",
        "        if ascore>bscore:\n",
        "            best_tour = ants[a].copy()\n",
        "            best_ac=ac_ants[a]\n",
        "        elif ascore==bscore:\n",
        "            if len(ants[a])<len(best_tour):\n",
        "                best_tour = ants[a].copy()\n",
        "                best_ac=ac_ants[a]\n",
        "    for a in range(n_ants):\n",
        "        for k in ants[a]:\n",
        "            for j in ants[a]:\n",
        "                if k != j:\n",
        "                    ph_trail[k][j] += ph_trail[k][j] *  ac_ants[a]/ len(ants[a])\n",
        "                    if ph_trail[k][j]>1:\n",
        "                        ph_trail[k][j]=1\n",
        "    for k in best_tour:\n",
        "        for j in best_tour:\n",
        "            if k != j:\n",
        "                ph_trail[k][j] += ph_trail[k][j] *  best_ac/ len(ants[a])\n",
        "                if ph_trail[k][j]>1:\n",
        "                    ph_trail[k][j]=1\n",
        "    for j in range(n_att):\n",
        "        for k in range(n_att):\n",
        "            if k!=j:\n",
        "                ph_trail[j][k]*=(1-rho)\n",
        "    at_time_e = time.time()\n",
        "    tempset=set()\n",
        "    print(\"###########Iteration : \",i,\"############\")\n",
        "    for a in range(n_ants):\n",
        "        print(\"Sol of ant \",a,\" is :\",ants[a],\"     Specificity:\",ac_ants[a])\n",
        "    print(\"Sol of best ant till now is :\",[Att_names[x] for x in best_tour],\"     Specificity:\",best_ac)\n",
        "    print(\"Best_Sol length :  \", len(best_tour))\n",
        "    print(\"Time Taken by iteration \", i, \" is :\", at_time_e - at_time_s)\n",
        "t_time_e = time.time()\n",
        "print(\"Total time by ACO (in sec): \", t_time_e - t_time_s)\n",
        "print(\"Best_Sol  :  \", [Att_names[x] for x in best_tour])\n",
        "print(\"Best_Sol length :  \", len(best_tour))\n",
        "print(\"Specificity of Best_ant solution is :\",best_ac)\n"
      ],
      "execution_count": 18,
      "outputs": [
        {
          "output_type": "stream",
          "text": [
            "Iteration No : 0\n",
            "###########Iteration :  0 ############\n",
            "Sol of ant  0  is : [14, 2, 3, 0, 22, 25]      Specificity: 0.8979591836734694\n",
            "Sol of ant  1  is : [24, 1, 4, 9, 22, 11, 3, 12, 6, 13]      Specificity: 0.8979591836734694\n",
            "Sol of ant  2  is : [0, 11, 5, 3, 1]      Specificity: 0.8843537414965986\n",
            "Sol of ant  3  is : [25, 2, 4, 5, 9, 10, 12, 3, 7, 6]      Specificity: 0.8979591836734694\n",
            "Sol of ant  4  is : [21, 0, 3, 6, 7]      Specificity: 0.8843537414965986\n",
            "Sol of ant  5  is : [23, 2, 10, 3, 5, 7]      Specificity: 0.8843537414965986\n",
            "Sol of ant  6  is : [2, 3, 0, 4]      Specificity: 0.891156462585034\n",
            "Sol of ant  7  is : [7, 2, 3, 0, 22, 20]      Specificity: 0.9047619047619048\n",
            "Sol of ant  8  is : [14, 15, 2, 3, 12, 1, 7]      Specificity: 0.8775510204081632\n",
            "Sol of ant  9  is : [6, 1, 9, 13, 3, 12, 5, 11]      Specificity: 0.8979591836734694\n",
            "Sol of best ant till now is : ['V8', 'V3', 'V4', 'V1', 'V23', 'V21']      Specificity: 0.9047619047619048\n",
            "Best_Sol length :   6\n",
            "Time Taken by iteration  0  is : 302.9889235496521\n",
            "Iteration No : 1\n",
            "###########Iteration :  1 ############\n",
            "Sol of ant  0  is : [0, 1, 14, 9, 7, 3]      Specificity: 0.891156462585034\n",
            "Sol of ant  1  is : [7, 2, 11, 3, 9]      Specificity: 0.891156462585034\n",
            "Sol of ant  2  is : [2, 9, 3, 13, 7]      Specificity: 0.891156462585034\n",
            "Sol of ant  3  is : [20, 6, 0, 1, 23, 5, 27, 9, 13, 7, 3, 12, 11]      Specificity: 0.8979591836734694\n",
            "Sol of ant  4  is : [7, 1, 11, 12, 3]      Specificity: 0.891156462585034\n",
            "Sol of ant  5  is : [3, 0, 6, 2, 1, 7]      Specificity: 0.8979591836734694\n",
            "Sol of ant  6  is : [3, 2, 1, 8, 20]      Specificity: 0.8979591836734694\n",
            "Sol of ant  7  is : [7, 2, 3, 8, 0]      Specificity: 0.8979591836734694\n",
            "Sol of ant  8  is : [0, 5, 6, 2, 9, 7, 3]      Specificity: 0.891156462585034\n",
            "Sol of ant  9  is : [2, 3, 0, 5, 7, 22]      Specificity: 0.9047619047619048\n",
            "Sol of best ant till now is : ['V8', 'V3', 'V4', 'V1', 'V23', 'V21']      Specificity: 0.9047619047619048\n",
            "Best_Sol length :   6\n",
            "Time Taken by iteration  1  is : 294.75940346717834\n",
            "Iteration No : 2\n",
            "###########Iteration :  2 ############\n",
            "Sol of ant  0  is : [20, 3, 1, 0, 5, 26]      Specificity: 0.9047619047619048\n",
            "Sol of ant  1  is : [2, 4, 5, 9, 10, 3, 13, 0]      Specificity: 0.891156462585034\n",
            "Sol of ant  2  is : [20, 2, 8, 6, 3, 1]      Specificity: 0.891156462585034\n",
            "Sol of ant  3  is : [3, 6, 0, 2, 1, 7]      Specificity: 0.8979591836734694\n",
            "Sol of ant  4  is : [3, 11, 5, 8]      Specificity: 0.8775510204081632\n",
            "Sol of ant  5  is : [0, 4, 5, 11, 3, 20]      Specificity: 0.8843537414965986\n",
            "Sol of ant  6  is : [2, 3, 1, 8, 7]      Specificity: 0.8979591836734694\n",
            "Sol of ant  7  is : [3, 0, 1, 27]      Specificity: 0.9047619047619048\n",
            "Sol of ant  8  is : [3, 0, 6, 7, 9]      Specificity: 0.891156462585034\n",
            "Sol of ant  9  is : [22, 2, 4, 9, 7, 3, 12, 23]      Specificity: 0.8979591836734694\n",
            "Sol of best ant till now is : ['V4', 'V1', 'V2', 'V28']      Specificity: 0.9047619047619048\n",
            "Best_Sol length :   4\n",
            "Time Taken by iteration  2  is : 275.75056433677673\n",
            "Iteration No : 3\n",
            "###########Iteration :  3 ############\n",
            "Sol of ant  0  is : [0, 14, 27, 26, 4, 3, 1]      Specificity: 0.9047619047619048\n",
            "Sol of ant  1  is : [27, 3, 9, 7]      Specificity: 0.891156462585034\n",
            "Sol of ant  2  is : [1, 2, 5, 13, 15, 3, 7, 9]      Specificity: 0.891156462585034\n",
            "Sol of ant  3  is : [3, 27, 9, 7]      Specificity: 0.891156462585034\n",
            "Sol of ant  4  is : [3, 15, 9, 11, 7]      Specificity: 0.8843537414965986\n",
            "Sol of ant  5  is : [3, 2, 0, 20, 22]      Specificity: 0.9047619047619048\n",
            "Sol of ant  6  is : [1, 3, 0, 14]      Specificity: 0.9047619047619048\n",
            "Sol of ant  7  is : [27, 13, 7, 3, 9, 2]      Specificity: 0.891156462585034\n",
            "Sol of ant  8  is : [3, 6, 7, 0, 2, 1]      Specificity: 0.8979591836734694\n",
            "Sol of ant  9  is : [3, 10, 0, 13, 7, 9]      Specificity: 0.891156462585034\n",
            "Sol of best ant till now is : ['V4', 'V1', 'V2', 'V28']      Specificity: 0.9047619047619048\n",
            "Best_Sol length :   4\n",
            "Time Taken by iteration  3  is : 271.5193290710449\n",
            "Iteration No : 4\n",
            "###########Iteration :  4 ############\n",
            "Sol of ant  0  is : [0, 1, 7, 2, 5, 8, 6, 3]      Specificity: 0.8979591836734694\n",
            "Sol of ant  1  is : [27, 1, 2, 3, 7, 8]      Specificity: 0.8979591836734694\n",
            "Sol of ant  2  is : [27, 3, 2, 8, 7, 1]      Specificity: 0.8979591836734694\n",
            "Sol of ant  3  is : [0, 7, 9, 12, 3, 23]      Specificity: 0.8979591836734694\n",
            "Sol of ant  4  is : [0, 6, 5, 2, 11, 3, 1, 7]      Specificity: 0.8979591836734694\n",
            "Sol of ant  5  is : [27, 2, 10, 13, 3, 15, 11, 7]      Specificity: 0.891156462585034\n",
            "Sol of ant  6  is : [27, 1, 3, 2, 7, 21]      Specificity: 0.8979591836734694\n",
            "Sol of ant  7  is : [0, 11, 22, 7, 3, 9, 2, 12]      Specificity: 0.891156462585034\n",
            "Sol of ant  8  is : [27, 2, 0, 9, 7, 3]      Specificity: 0.891156462585034\n",
            "Sol of ant  9  is : [27, 3, 11, 0, 4, 17]      Specificity: 0.891156462585034\n",
            "Sol of best ant till now is : ['V4', 'V1', 'V2', 'V28']      Specificity: 0.9047619047619048\n",
            "Best_Sol length :   4\n",
            "Time Taken by iteration  4  is : 353.31494879722595\n",
            "Iteration No : 5\n",
            "###########Iteration :  5 ############\n",
            "Sol of ant  0  is : [3, 0, 7, 2, 5, 22]      Specificity: 0.9047619047619048\n",
            "Sol of ant  1  is : [27, 10, 1, 3, 9, 13]      Specificity: 0.8843537414965986\n",
            "Sol of ant  2  is : [3, 0, 5, 14, 2, 7]      Specificity: 0.8979591836734694\n",
            "Sol of ant  3  is : [1, 27, 11, 0, 3, 22, 16, 26]      Specificity: 0.8843537414965986\n",
            "Sol of ant  4  is : [0, 1, 16, 20, 8, 9, 3, 12, 5]      Specificity: 0.891156462585034\n",
            "Sol of ant  5  is : [3, 2, 1, 7, 22]      Specificity: 0.8979591836734694\n",
            "Sol of ant  6  is : [0, 4, 1, 6, 20, 3, 2]      Specificity: 0.891156462585034\n",
            "Sol of ant  7  is : [27, 2, 11, 3, 7, 9]      Specificity: 0.891156462585034\n",
            "Sol of ant  8  is : [1, 9, 0, 7, 26, 13, 2, 3]      Specificity: 0.891156462585034\n",
            "Sol of ant  9  is : [1, 2, 11, 3, 4, 7, 0]      Specificity: 0.8979591836734694\n",
            "Sol of best ant till now is : ['V4', 'V1', 'V2', 'V28']      Specificity: 0.9047619047619048\n",
            "Best_Sol length :   4\n",
            "Time Taken by iteration  5  is : 358.4551146030426\n",
            "Iteration No : 6\n",
            "###########Iteration :  6 ############\n",
            "Sol of ant  0  is : [27, 1, 3, 0]      Specificity: 0.9047619047619048\n",
            "Sol of ant  1  is : [1, 9, 0, 7, 11, 3, 10]      Specificity: 0.891156462585034\n",
            "Sol of ant  2  is : [0, 4, 13, 9, 2, 3]      Specificity: 0.891156462585034\n",
            "Sol of ant  3  is : [3, 12, 0, 5, 2, 14, 7, 18]      Specificity: 0.9047619047619048\n",
            "Sol of ant  4  is : [3, 18, 4, 9, 20]      Specificity: 0.891156462585034\n",
            "Sol of ant  5  is : [3, 15, 18, 1, 7, 17, 28]      Specificity: 0.891156462585034\n",
            "Sol of ant  6  is : [27, 2, 3, 0, 20, 22]      Specificity: 0.9047619047619048\n",
            "Sol of ant  7  is : [3, 6, 2, 0, 7, 1]      Specificity: 0.8979591836734694\n",
            "Sol of ant  8  is : [1, 3, 9, 7, 0]      Specificity: 0.891156462585034\n",
            "Sol of ant  9  is : [3, 2, 7, 8, 1]      Specificity: 0.8979591836734694\n",
            "Sol of best ant till now is : ['V4', 'V1', 'V2', 'V28']      Specificity: 0.9047619047619048\n",
            "Best_Sol length :   4\n",
            "Time Taken by iteration  6  is : 318.3609631061554\n",
            "Iteration No : 7\n",
            "###########Iteration :  7 ############\n",
            "Sol of ant  0  is : [27, 1, 3, 6, 18, 2, 0, 7]      Specificity: 0.8979591836734694\n",
            "Sol of ant  1  is : [1, 9, 20, 13, 3, 2, 19]      Specificity: 0.891156462585034\n",
            "Sol of ant  2  is : [0, 16, 3, 20]      Specificity: 0.8843537414965986\n",
            "Sol of ant  3  is : [1, 9, 11, 7, 3, 17]      Specificity: 0.891156462585034\n",
            "Sol of ant  4  is : [1, 2, 6, 3, 20]      Specificity: 0.891156462585034\n",
            "Sol of ant  5  is : [1, 9, 3, 12, 7, 4]      Specificity: 0.8979591836734694\n",
            "Sol of ant  6  is : [3, 2, 0, 4]      Specificity: 0.891156462585034\n",
            "Sol of ant  7  is : [3, 2, 5, 12, 7]      Specificity: 0.8979591836734694\n",
            "Sol of ant  8  is : [0, 3, 16, 20]      Specificity: 0.8843537414965986\n",
            "Sol of ant  9  is : [27, 8, 3, 0, 5, 20, 1, 18]      Specificity: 0.9047619047619048\n",
            "Sol of best ant till now is : ['V4', 'V1', 'V2', 'V28']      Specificity: 0.9047619047619048\n",
            "Best_Sol length :   4\n",
            "Time Taken by iteration  7  is : 305.65281081199646\n",
            "Iteration No : 8\n",
            "###########Iteration :  8 ############\n",
            "Sol of ant  0  is : [3, 18, 11, 13, 12, 9]      Specificity: 0.8979591836734694\n",
            "Sol of ant  1  is : [27, 9, 7, 0, 5, 3]      Specificity: 0.891156462585034\n",
            "Sol of ant  2  is : [0, 10, 11, 3, 9, 12, 13, 23]      Specificity: 0.8979591836734694\n",
            "Sol of ant  3  is : [3, 6, 0, 7, 2, 1]      Specificity: 0.8979591836734694\n",
            "Sol of ant  4  is : [3, 2, 0, 4]      Specificity: 0.891156462585034\n",
            "Sol of ant  5  is : [1, 2, 3, 7, 20]      Specificity: 0.8979591836734694\n",
            "Sol of ant  6  is : [0, 8, 9, 6, 7, 22, 12, 13, 3, 11]      Specificity: 0.8843537414965986\n",
            "Sol of ant  7  is : [0, 3, 9, 5, 7]      Specificity: 0.891156462585034\n",
            "Sol of ant  8  is : [3, 12, 0, 2, 11, 7, 9, 13]      Specificity: 0.8979591836734694\n",
            "Sol of ant  9  is : [3, 8, 9, 20, 4]      Specificity: 0.891156462585034\n",
            "Sol of best ant till now is : ['V4', 'V1', 'V2', 'V28']      Specificity: 0.9047619047619048\n",
            "Best_Sol length :   4\n",
            "Time Taken by iteration  8  is : 346.0659124851227\n",
            "Iteration No : 9\n",
            "###########Iteration :  9 ############\n",
            "Sol of ant  0  is : [3, 9, 12, 4, 7, 19]      Specificity: 0.9047619047619048\n",
            "Sol of ant  1  is : [0, 1, 6, 8, 3, 2, 5, 7]      Specificity: 0.8979591836734694\n",
            "Sol of ant  2  is : [27, 9, 13, 3, 10]      Specificity: 0.8843537414965986\n",
            "Sol of ant  3  is : [27, 2, 5, 19, 10, 3, 7, 9]      Specificity: 0.8843537414965986\n",
            "Sol of ant  4  is : [27, 3, 11, 5, 21]      Specificity: 0.8843537414965986\n",
            "Sol of ant  5  is : [27, 1, 3, 0]      Specificity: 0.9047619047619048\n",
            "Sol of ant  6  is : [27, 8, 6, 0, 2, 1, 3, 22, 7, 5]      Specificity: 0.8979591836734694\n",
            "Sol of ant  7  is : [3, 2, 5, 0, 7, 22]      Specificity: 0.9047619047619048\n",
            "Sol of ant  8  is : [3, 10, 0, 5, 1]      Specificity: 0.8843537414965986\n",
            "Sol of ant  9  is : [1, 7, 3, 4, 2, 8]      Specificity: 0.8979591836734694\n",
            "Sol of best ant till now is : ['V4', 'V1', 'V2', 'V28']      Specificity: 0.9047619047619048\n",
            "Best_Sol length :   4\n",
            "Time Taken by iteration  9  is : 359.2957708835602\n",
            "Total time by ACO (in sec):  3186.2231271266937\n",
            "Best_Sol  :   ['V4', 'V1', 'V2', 'V28']\n",
            "Best_Sol length :   4\n",
            "Specificity of Best_ant solution is : 0.9047619047619048\n"
          ],
          "name": "stdout"
        }
      ]
    },
    {
      "cell_type": "code",
      "metadata": {
        "id": "ZTk6bKtuLEly"
      },
      "source": [
        ""
      ],
      "execution_count": 18,
      "outputs": []
    }
  ]
}