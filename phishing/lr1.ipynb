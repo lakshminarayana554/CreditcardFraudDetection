{
  "nbformat": 4,
  "nbformat_minor": 0,
  "metadata": {
    "colab": {
      "name": "phishing.ipynb",
      "provenance": []
    },
    "kernelspec": {
      "name": "python3",
      "display_name": "Python 3"
    },
    "language_info": {
      "name": "python"
    }
  },
  "cells": [
    {
      "cell_type": "code",
      "metadata": {
        "id": "mUCP3wNj8KUL"
      },
      "source": [
        "from sklearn.linear_model import LogisticRegression\n",
        "# from sklearn.neighbors import KNeighborsClassifier\n",
        "# from sklearn.tree import DecisionTreeClassifier\n",
        "from sklearn.svm import SVC\n",
        "from xgboost import XGBClassifier\n",
        "import time\n",
        "\n",
        "\n",
        "\n",
        "import sys\n",
        "import math\n",
        "import time\n",
        "from random import randint,choice, shuffle, random\n",
        "from statistics import mode\n",
        "import pandas as pd\n",
        "import seaborn as sns\n",
        "import matplotlib.pyplot as plt\n",
        "import numpy as np\n",
        "from scipy import stats\n",
        "# from sklearn import svm\n",
        "from sklearn.model_selection import train_test_split\n",
        "from sklearn.metrics import *\n",
        "from sklearn.preprocessing import LabelEncoder\n",
        "from sklearn.feature_selection import *\n",
        "# from sklearn.neighbors import KNeighborsClassifier\n",
        "# from sklearn import tree\n",
        "\n",
        "from sklearn.linear_model import LogisticRegression\n",
        "from sklearn.model_selection import GridSearchCV\n",
        "from sklearn.metrics import make_scorer\n",
        "from sklearn.metrics import confusion_matrix \n",
        "\n",
        "def specificity(y_true, y_predicted):\n",
        " tp,fp,fn,tn = confusion_matrix(y_true, y_predicted).ravel()\n",
        " s=tn/(tn+fp)\n",
        " return s\n",
        "\n",
        "my_scorer = make_scorer(specificity, greater_is_better=True)\n",
        "\n",
        "\n",
        "\n"
      ],
      "execution_count": 3,
      "outputs": []
    },
    {
      "cell_type": "code",
      "metadata": {
        "id": "7KLzNYFz8THI"
      },
      "source": [
        "data=pd.read_csv('/content/drive/MyDrive/Colab Notebooks/dataset/phishing.csv')"
      ],
      "execution_count": 6,
      "outputs": []
    },
    {
      "cell_type": "code",
      "metadata": {
        "id": "GLmYNRu_8vsC"
      },
      "source": [
        "col_names=list(data.columns)\n",
        "Att_names=col_names[:-1]\n",
        "Class_names=data[\"class\"].unique()"
      ],
      "execution_count": 7,
      "outputs": []
    },
    {
      "cell_type": "code",
      "metadata": {
        "colab": {
          "base_uri": "https://localhost:8080/"
        },
        "id": "wNlBpS5Q9CZU",
        "outputId": "7ffb23bc-afeb-44e3-aa6d-35f20f30479c"
      },
      "source": [
        "n_att = len(Att_names)\n",
        "n_att"
      ],
      "execution_count": 8,
      "outputs": [
        {
          "output_type": "execute_result",
          "data": {
            "text/plain": [
              "31"
            ]
          },
          "metadata": {
            "tags": []
          },
          "execution_count": 8
        }
      ]
    },
    {
      "cell_type": "code",
      "metadata": {
        "id": "X3Ury5qS9GeJ"
      },
      "source": [
        "train_data, test_data = train_test_split(data, test_size=0.3)\n",
        "train_x=train_data.iloc[:,:-1].values\n",
        "train_y=train_data[\"class\"].values\n",
        "test_x=test_data.iloc[:,:-1].values\n",
        "test_y=test_data[\"class\"].values\n"
      ],
      "execution_count": 9,
      "outputs": []
    },
    {
      "cell_type": "code",
      "metadata": {
        "id": "2bm88FSRApF3"
      },
      "source": [
        "# X= df.drop('class',axis=1,).values\n",
        "# Y=df['class'].values\n",
        "\n",
        "# train_X, test_X, train_Y, test_Y = train_test_split(X, Y, test_size = 0.2)\n",
        "# print('X_train:',train_X)\n",
        "\n",
        "# print('Y_train',train_Y)\n",
        "\n",
        "# print('X_test',test_X)\n",
        " \n",
        "# print('Y_test',test_Y)"
      ],
      "execution_count": null,
      "outputs": []
    },
    {
      "cell_type": "code",
      "metadata": {
        "id": "Ly525zj6b-dt"
      },
      "source": [
        "def plot_confusion_matrix(Y_test, predict_y):\n",
        " C = confusion_matrix(Y_test, predict_y)\n",
        " A =(((C.T)/(C.sum(axis=1))).T)\n",
        " B =(C/C.sum(axis=0))\n",
        " plt.figure(figsize=(20,4))\n",
        " labels = [1,2]\n",
        " cmap=sns.dark_palette(\"green\")\n",
        " plt.subplot(1, 3, 1)\n",
        " sns.heatmap(C, annot=True, cmap=cmap, fmt=\".3f\", xticklabels=labels, yticklabels=labels)\n",
        " plt.xlabel('Predicted Class')\n",
        " plt.ylabel('Original Class')\n",
        " plt.title(\"Confusion matrix\")\n",
        " plt.subplot(1, 3, 2)\n",
        " sns.heatmap(B, annot=True, cmap=cmap, fmt=\".3f\", xticklabels=labels, yticklabels=labels)\n",
        " plt.xlabel('Predicted Class')\n",
        " plt.ylabel('Original Class')\n",
        " plt.title(\"Precision matrix\")\n",
        " plt.subplot(1, 3, 3)\n",
        " sns.heatmap(A, annot=True, cmap=cmap, fmt=\".3f\", xticklabels=labels, yticklabels=labels)\n",
        " plt.xlabel('Predicted Class')\n",
        " plt.ylabel('Original Class')\n",
        " plt.title(\"Recall matrix\")\n",
        " plt.show()"
      ],
      "execution_count": null,
      "outputs": []
    },
    {
      "cell_type": "code",
      "metadata": {
        "id": "lnjKcvSLCa6T"
      },
      "source": [
        "#Logistic Regression\n",
        "\n",
        "clf=GridSearchCV(LogisticRegression(max_iter=100,n_jobs=-1,class_weight='balanced'),scoring=my_scorer,param_grid={'C':[0.1]})\n",
        "\n",
        "#SVC\n",
        "\n",
        "# clf=GridSearchCV(SVC(class_weight='balanced'),scoring=my_scorer,param_grid={'C':[1.0]})\n",
        "\n",
        "#XGB classifier\n",
        "\n",
        "# clf=GridSearchCV(XGBClassifier(),scoring=my_scorer,param_grid={'C':[1.0]})"
      ],
      "execution_count": 10,
      "outputs": []
    },
    {
      "cell_type": "code",
      "metadata": {
        "id": "Q0H2DxCW9Xtu"
      },
      "source": [
        "#Constants\n",
        "#pheromone concentration influence \n",
        "alpha = 0.5 \n",
        "#MI influence\n",
        "beta = 0.5\n",
        "#pheromone evoparation\n",
        "rho = 0.1\n",
        "#Pheromone diposite level\n",
        "q = 0.5\n",
        "epsilon = 0.001"
      ],
      "execution_count": 11,
      "outputs": []
    },
    {
      "cell_type": "code",
      "metadata": {
        "colab": {
          "base_uri": "https://localhost:8080/"
        },
        "id": "iDXTVLMU9caH",
        "outputId": "d52b3cec-37c3-4606-e61c-c13e5c54ecc9"
      },
      "source": [
        "clf.fit(train_x,train_y)\n",
        "clf.score(test_x,test_y)\n"
      ],
      "execution_count": 12,
      "outputs": [
        {
          "output_type": "execute_result",
          "data": {
            "text/plain": [
              "0.9282678002125399"
            ]
          },
          "metadata": {
            "tags": []
          },
          "execution_count": 12
        }
      ]
    },
    {
      "cell_type": "code",
      "metadata": {
        "colab": {
          "base_uri": "https://localhost:8080/"
        },
        "id": "yZML8Yqj9g08",
        "outputId": "f317b2c7-7c78-430c-e535-2ab797d9eef6"
      },
      "source": [
        "\n",
        "# number of ants and number of iterations\n",
        "tset = list(range(n_att))\n",
        "n_ants = 10\n",
        "n_iter = 10\n",
        "ants=[[] for x in range(n_ants)]\n",
        "ac_ants=[0 for x in range(n_ants)]\n",
        "best_tour = tset.copy()\n",
        "best_ac=clf.fit(train_x[:,best_tour],train_y).score(test_x[:,best_tour],test_y)\n",
        "#Intializing Pheromone\n",
        "ph_trail = []\n",
        "for i in range(n_att):\n",
        "    p_r = [0.5 for j in range(n_att)]\n",
        "    p_r[i] = 0\n",
        "    ph_trail.append(p_r)\n",
        "t_time_s = time.time()\n",
        "t_t_time = 0\n",
        "for i in range(n_iter):\n",
        "    print(\"Iteration No :\", i)\n",
        "    at_time_s = time.time()\n",
        "    for a in range(n_ants):\n",
        "        ants[a]=[choice(best_tour)]\n",
        "        while True:\n",
        "            change=False\n",
        "            mic = clf.fit(train_x[:,ants[a]],train_y).score(test_x[:,ants[a]],test_y)\n",
        "            next_pos = {}\n",
        "            max_next = []\n",
        "            for at in range(n_att):\n",
        "                if at not in ants[a]:\n",
        "                    ph=0\n",
        "                    hi = clf.fit(train_x[:,ants[a]+[at]],train_y).score(test_x[:,ants[a]+[at]],test_y)- mic\n",
        "                    hi= 0 if hi<=0 else hi\n",
        "                    for x_pos in ants[a]:\n",
        "                        ph+=ph_trail[x_pos][at]\n",
        "                    ph=ph/len(ants[a])\n",
        "                    t_value = (hi ** beta) * (ph ** alpha)\n",
        "                    if t_value>0:\n",
        "                        max_next.append((t_value,at))\n",
        "            if(len(max_next)):    \n",
        "                pr=randint(0,len(max_next)-1)\n",
        "                n_at = max_next[randint(0, pr)][1]\n",
        "                ants[a].append(n_at)\n",
        "                change=True\n",
        "            if change==False:\n",
        "                break\n",
        "    for a in range(n_ants):\n",
        "        ascore=clf.fit(train_x[:,ants[a]],train_y).score(test_x[:,ants[a]],test_y)\n",
        "        ac_ants[a]=(ascore)\n",
        "        bscore=best_ac\n",
        "        if ascore>bscore:\n",
        "            best_tour = ants[a].copy()\n",
        "            best_ac=ac_ants[a]\n",
        "        elif ascore==bscore:\n",
        "            if len(ants[a])<len(best_tour):\n",
        "                best_tour = ants[a].copy()\n",
        "                best_ac=ac_ants[a]\n",
        "    for a in range(n_ants):\n",
        "        for k in ants[a]:\n",
        "            for j in ants[a]:\n",
        "                if k != j:\n",
        "                    ph_trail[k][j] += ph_trail[k][j] *  ac_ants[a]/ len(ants[a])\n",
        "                    if ph_trail[k][j]>1:\n",
        "                        ph_trail[k][j]=1\n",
        "    for k in best_tour:\n",
        "        for j in best_tour:\n",
        "            if k != j:\n",
        "                ph_trail[k][j] += ph_trail[k][j] *  best_ac/ len(ants[a])\n",
        "                if ph_trail[k][j]>1:\n",
        "                    ph_trail[k][j]=1\n",
        "    for j in range(n_att):\n",
        "        for k in range(n_att):\n",
        "            if k!=j:\n",
        "                ph_trail[j][k]*=(1-rho)\n",
        "    at_time_e = time.time()\n",
        "    tempset=set()\n",
        "    print(\"###########Iteration : \",i,\"############\")\n",
        "    for a in range(n_ants):\n",
        "        print(\"Sol of ant \",a,\" is :\",ants[a],\"     Specificity:\",ac_ants[a])\n",
        "    print(\"Sol of best ant till now is :\",[Att_names[x] for x in best_tour],\"     Specificity:\",best_ac)\n",
        "    print(\"Best_Sol length :  \", len(best_tour))\n",
        "    print(\"Time Taken by iteration \", i, \" is :\", at_time_e - at_time_s)\n",
        "t_time_e = time.time()\n",
        "print(\"Total time by ACO (in sec): \", t_time_e - t_time_s)\n",
        "print(\"Best_Sol  :  \", [Att_names[x] for x in best_tour])\n",
        "print(\"Best_Sol length :  \", len(best_tour))\n",
        "print(\"Specificity of Best_ant solution is :\",best_ac)\n"
      ],
      "execution_count": 13,
      "outputs": [
        {
          "output_type": "stream",
          "text": [
            "Iteration No : 0\n"
          ],
          "name": "stdout"
        },
        {
          "output_type": "stream",
          "text": [
            "/usr/local/lib/python3.7/dist-packages/ipykernel_launcher.py:35: RuntimeWarning: invalid value encountered in long_scalars\n",
            "/usr/local/lib/python3.7/dist-packages/ipykernel_launcher.py:35: RuntimeWarning: invalid value encountered in long_scalars\n",
            "/usr/local/lib/python3.7/dist-packages/ipykernel_launcher.py:35: RuntimeWarning: invalid value encountered in long_scalars\n",
            "/usr/local/lib/python3.7/dist-packages/ipykernel_launcher.py:35: RuntimeWarning: invalid value encountered in long_scalars\n",
            "/usr/local/lib/python3.7/dist-packages/ipykernel_launcher.py:35: RuntimeWarning: invalid value encountered in long_scalars\n",
            "/usr/local/lib/python3.7/dist-packages/ipykernel_launcher.py:35: RuntimeWarning: invalid value encountered in long_scalars\n",
            "/usr/local/lib/python3.7/dist-packages/ipykernel_launcher.py:35: RuntimeWarning: invalid value encountered in long_scalars\n",
            "/usr/local/lib/python3.7/dist-packages/ipykernel_launcher.py:35: RuntimeWarning: invalid value encountered in long_scalars\n",
            "/usr/local/lib/python3.7/dist-packages/ipykernel_launcher.py:35: RuntimeWarning: invalid value encountered in long_scalars\n",
            "/usr/local/lib/python3.7/dist-packages/ipykernel_launcher.py:35: RuntimeWarning: invalid value encountered in long_scalars\n",
            "/usr/local/lib/python3.7/dist-packages/ipykernel_launcher.py:35: RuntimeWarning: invalid value encountered in long_scalars\n",
            "/usr/local/lib/python3.7/dist-packages/ipykernel_launcher.py:35: RuntimeWarning: invalid value encountered in long_scalars\n",
            "/usr/local/lib/python3.7/dist-packages/ipykernel_launcher.py:35: RuntimeWarning: invalid value encountered in long_scalars\n",
            "/usr/local/lib/python3.7/dist-packages/ipykernel_launcher.py:35: RuntimeWarning: invalid value encountered in long_scalars\n",
            "/usr/local/lib/python3.7/dist-packages/ipykernel_launcher.py:35: RuntimeWarning: invalid value encountered in long_scalars\n",
            "/usr/local/lib/python3.7/dist-packages/ipykernel_launcher.py:35: RuntimeWarning: invalid value encountered in long_scalars\n",
            "/usr/local/lib/python3.7/dist-packages/ipykernel_launcher.py:35: RuntimeWarning: invalid value encountered in long_scalars\n",
            "/usr/local/lib/python3.7/dist-packages/ipykernel_launcher.py:35: RuntimeWarning: invalid value encountered in long_scalars\n",
            "/usr/local/lib/python3.7/dist-packages/ipykernel_launcher.py:35: RuntimeWarning: invalid value encountered in long_scalars\n",
            "/usr/local/lib/python3.7/dist-packages/ipykernel_launcher.py:35: RuntimeWarning: invalid value encountered in long_scalars\n",
            "/usr/local/lib/python3.7/dist-packages/ipykernel_launcher.py:35: RuntimeWarning: invalid value encountered in long_scalars\n",
            "/usr/local/lib/python3.7/dist-packages/ipykernel_launcher.py:35: RuntimeWarning: invalid value encountered in long_scalars\n",
            "/usr/local/lib/python3.7/dist-packages/ipykernel_launcher.py:35: RuntimeWarning: invalid value encountered in long_scalars\n",
            "/usr/local/lib/python3.7/dist-packages/ipykernel_launcher.py:35: RuntimeWarning: invalid value encountered in long_scalars\n",
            "/usr/local/lib/python3.7/dist-packages/ipykernel_launcher.py:35: RuntimeWarning: invalid value encountered in long_scalars\n",
            "/usr/local/lib/python3.7/dist-packages/ipykernel_launcher.py:35: RuntimeWarning: invalid value encountered in long_scalars\n",
            "/usr/local/lib/python3.7/dist-packages/ipykernel_launcher.py:35: RuntimeWarning: invalid value encountered in long_scalars\n",
            "/usr/local/lib/python3.7/dist-packages/ipykernel_launcher.py:35: RuntimeWarning: invalid value encountered in long_scalars\n",
            "/usr/local/lib/python3.7/dist-packages/ipykernel_launcher.py:35: RuntimeWarning: invalid value encountered in long_scalars\n",
            "/usr/local/lib/python3.7/dist-packages/ipykernel_launcher.py:35: RuntimeWarning: invalid value encountered in long_scalars\n",
            "/usr/local/lib/python3.7/dist-packages/ipykernel_launcher.py:35: RuntimeWarning: invalid value encountered in long_scalars\n",
            "/usr/local/lib/python3.7/dist-packages/ipykernel_launcher.py:35: RuntimeWarning: invalid value encountered in long_scalars\n",
            "/usr/local/lib/python3.7/dist-packages/ipykernel_launcher.py:35: RuntimeWarning: invalid value encountered in long_scalars\n",
            "/usr/local/lib/python3.7/dist-packages/ipykernel_launcher.py:35: RuntimeWarning: invalid value encountered in long_scalars\n",
            "/usr/local/lib/python3.7/dist-packages/ipykernel_launcher.py:35: RuntimeWarning: invalid value encountered in long_scalars\n",
            "/usr/local/lib/python3.7/dist-packages/ipykernel_launcher.py:35: RuntimeWarning: invalid value encountered in long_scalars\n",
            "/usr/local/lib/python3.7/dist-packages/ipykernel_launcher.py:35: RuntimeWarning: invalid value encountered in long_scalars\n",
            "/usr/local/lib/python3.7/dist-packages/ipykernel_launcher.py:35: RuntimeWarning: invalid value encountered in long_scalars\n",
            "/usr/local/lib/python3.7/dist-packages/ipykernel_launcher.py:35: RuntimeWarning: invalid value encountered in long_scalars\n",
            "/usr/local/lib/python3.7/dist-packages/ipykernel_launcher.py:35: RuntimeWarning: invalid value encountered in long_scalars\n",
            "/usr/local/lib/python3.7/dist-packages/ipykernel_launcher.py:35: RuntimeWarning: invalid value encountered in long_scalars\n",
            "/usr/local/lib/python3.7/dist-packages/ipykernel_launcher.py:35: RuntimeWarning: invalid value encountered in long_scalars\n",
            "/usr/local/lib/python3.7/dist-packages/ipykernel_launcher.py:35: RuntimeWarning: invalid value encountered in long_scalars\n",
            "/usr/local/lib/python3.7/dist-packages/ipykernel_launcher.py:35: RuntimeWarning: invalid value encountered in long_scalars\n",
            "/usr/local/lib/python3.7/dist-packages/ipykernel_launcher.py:35: RuntimeWarning: invalid value encountered in long_scalars\n",
            "/usr/local/lib/python3.7/dist-packages/ipykernel_launcher.py:35: RuntimeWarning: invalid value encountered in long_scalars\n",
            "/usr/local/lib/python3.7/dist-packages/ipykernel_launcher.py:35: RuntimeWarning: invalid value encountered in long_scalars\n",
            "/usr/local/lib/python3.7/dist-packages/ipykernel_launcher.py:35: RuntimeWarning: invalid value encountered in long_scalars\n",
            "/usr/local/lib/python3.7/dist-packages/ipykernel_launcher.py:35: RuntimeWarning: invalid value encountered in long_scalars\n"
          ],
          "name": "stderr"
        },
        {
          "output_type": "stream",
          "text": [
            "###########Iteration :  0 ############\n",
            "Sol of ant  0  is : [17, 14, 15, 8, 2, 6, 13, 1, 0, 7, 16]      Specificity: 0.9264232008592911\n",
            "Sol of ant  1  is : [23, 3, 8, 6, 14, 19, 22, 1, 28, 11, 4, 15, 9, 7, 2, 13, 12, 16, 17, 21, 18, 0, 10, 20]      Specificity: 0.9289909236518954\n",
            "Sol of ant  2  is : [17, 5, 2, 13, 9, 0, 7, 15, 6, 16, 1, 12, 8, 24, 23, 18, 4, 14, 20, 19, 11, 26]      Specificity: 0.9332247557003257\n",
            "Sol of ant  3  is : [15, 4, 14, 8, 6, 7, 3, 13, 2, 1, 16, 25, 9, 0, 26, 11, 29, 22, 5, 19]      Specificity: 0.9379461834157057\n",
            "Sol of ant  4  is : [19, 12, 7, 8, 6, 14, 0, 15, 11, 26, 28, 3, 16, 1, 17, 4]      Specificity: 0.927801724137931\n",
            "Sol of ant  5  is : [0, 12, 9, 7, 15, 6, 4, 2, 5, 1, 10, 11, 19, 30, 3, 25, 16, 8, 14, 18, 22, 24, 21, 13, 20, 26, 27, 17, 29]      Specificity: 0.9321851453175457\n",
            "Sol of ant  6  is : [6]      Specificity: 1.0\n",
            "Sol of ant  7  is : [1, 12, 3, 7, 4, 6, 8, 28, 14, 10, 2, 5, 19, 26, 11, 17, 16, 13, 18, 9, 15, 23, 0, 25]      Specificity: 0.9311457772996234\n",
            "Sol of ant  8  is : [26, 8, 2, 14, 0, 13, 6, 1, 28, 3, 16, 4, 19, 15, 9, 7, 27]      Specificity: 0.9317443120260022\n",
            "Sol of ant  9  is : [7, 6, 8, 14, 19, 4, 12, 9, 16, 10, 1, 27, 11, 13, 24, 29, 18, 5, 3, 0, 25, 21, 28, 23, 15, 20, 26, 30]      Specificity: 0.9360433604336044\n",
            "Sol of best ant till now is : ['PrefixSuffix-']      Specificity: 1.0\n",
            "Best_Sol length :   1\n",
            "Time Taken by iteration  0  is : 1514.2671210765839\n",
            "Iteration No : 1\n",
            "###########Iteration :  1 ############\n",
            "Sol of ant  0  is : [6]      Specificity: 1.0\n",
            "Sol of ant  1  is : [6]      Specificity: 1.0\n",
            "Sol of ant  2  is : [6]      Specificity: 1.0\n",
            "Sol of ant  3  is : [6]      Specificity: 1.0\n",
            "Sol of ant  4  is : [6]      Specificity: 1.0\n",
            "Sol of ant  5  is : [6]      Specificity: 1.0\n",
            "Sol of ant  6  is : [6]      Specificity: 1.0\n",
            "Sol of ant  7  is : [6]      Specificity: 1.0\n",
            "Sol of ant  8  is : [6]      Specificity: 1.0\n",
            "Sol of ant  9  is : [6]      Specificity: 1.0\n",
            "Sol of best ant till now is : ['PrefixSuffix-']      Specificity: 1.0\n",
            "Best_Sol length :   1\n",
            "Time Taken by iteration  1  is : 34.87989258766174\n",
            "Iteration No : 2\n",
            "###########Iteration :  2 ############\n",
            "Sol of ant  0  is : [6]      Specificity: 1.0\n",
            "Sol of ant  1  is : [6]      Specificity: 1.0\n",
            "Sol of ant  2  is : [6]      Specificity: 1.0\n",
            "Sol of ant  3  is : [6]      Specificity: 1.0\n",
            "Sol of ant  4  is : [6]      Specificity: 1.0\n",
            "Sol of ant  5  is : [6]      Specificity: 1.0\n",
            "Sol of ant  6  is : [6]      Specificity: 1.0\n",
            "Sol of ant  7  is : [6]      Specificity: 1.0\n",
            "Sol of ant  8  is : [6]      Specificity: 1.0\n",
            "Sol of ant  9  is : [6]      Specificity: 1.0\n",
            "Sol of best ant till now is : ['PrefixSuffix-']      Specificity: 1.0\n",
            "Best_Sol length :   1\n",
            "Time Taken by iteration  2  is : 35.16045022010803\n",
            "Iteration No : 3\n",
            "###########Iteration :  3 ############\n",
            "Sol of ant  0  is : [6]      Specificity: 1.0\n",
            "Sol of ant  1  is : [6]      Specificity: 1.0\n",
            "Sol of ant  2  is : [6]      Specificity: 1.0\n",
            "Sol of ant  3  is : [6]      Specificity: 1.0\n",
            "Sol of ant  4  is : [6]      Specificity: 1.0\n",
            "Sol of ant  5  is : [6]      Specificity: 1.0\n",
            "Sol of ant  6  is : [6]      Specificity: 1.0\n",
            "Sol of ant  7  is : [6]      Specificity: 1.0\n",
            "Sol of ant  8  is : [6]      Specificity: 1.0\n",
            "Sol of ant  9  is : [6]      Specificity: 1.0\n",
            "Sol of best ant till now is : ['PrefixSuffix-']      Specificity: 1.0\n",
            "Best_Sol length :   1\n",
            "Time Taken by iteration  3  is : 35.31603264808655\n",
            "Iteration No : 4\n",
            "###########Iteration :  4 ############\n",
            "Sol of ant  0  is : [6]      Specificity: 1.0\n",
            "Sol of ant  1  is : [6]      Specificity: 1.0\n",
            "Sol of ant  2  is : [6]      Specificity: 1.0\n",
            "Sol of ant  3  is : [6]      Specificity: 1.0\n",
            "Sol of ant  4  is : [6]      Specificity: 1.0\n",
            "Sol of ant  5  is : [6]      Specificity: 1.0\n",
            "Sol of ant  6  is : [6]      Specificity: 1.0\n",
            "Sol of ant  7  is : [6]      Specificity: 1.0\n",
            "Sol of ant  8  is : [6]      Specificity: 1.0\n",
            "Sol of ant  9  is : [6]      Specificity: 1.0\n",
            "Sol of best ant till now is : ['PrefixSuffix-']      Specificity: 1.0\n",
            "Best_Sol length :   1\n",
            "Time Taken by iteration  4  is : 35.49598813056946\n",
            "Iteration No : 5\n",
            "###########Iteration :  5 ############\n",
            "Sol of ant  0  is : [6]      Specificity: 1.0\n",
            "Sol of ant  1  is : [6]      Specificity: 1.0\n",
            "Sol of ant  2  is : [6]      Specificity: 1.0\n",
            "Sol of ant  3  is : [6]      Specificity: 1.0\n",
            "Sol of ant  4  is : [6]      Specificity: 1.0\n",
            "Sol of ant  5  is : [6]      Specificity: 1.0\n",
            "Sol of ant  6  is : [6]      Specificity: 1.0\n",
            "Sol of ant  7  is : [6]      Specificity: 1.0\n",
            "Sol of ant  8  is : [6]      Specificity: 1.0\n",
            "Sol of ant  9  is : [6]      Specificity: 1.0\n",
            "Sol of best ant till now is : ['PrefixSuffix-']      Specificity: 1.0\n",
            "Best_Sol length :   1\n",
            "Time Taken by iteration  5  is : 35.6088285446167\n",
            "Iteration No : 6\n",
            "###########Iteration :  6 ############\n",
            "Sol of ant  0  is : [6]      Specificity: 1.0\n",
            "Sol of ant  1  is : [6]      Specificity: 1.0\n",
            "Sol of ant  2  is : [6]      Specificity: 1.0\n",
            "Sol of ant  3  is : [6]      Specificity: 1.0\n",
            "Sol of ant  4  is : [6]      Specificity: 1.0\n",
            "Sol of ant  5  is : [6]      Specificity: 1.0\n",
            "Sol of ant  6  is : [6]      Specificity: 1.0\n",
            "Sol of ant  7  is : [6]      Specificity: 1.0\n",
            "Sol of ant  8  is : [6]      Specificity: 1.0\n",
            "Sol of ant  9  is : [6]      Specificity: 1.0\n",
            "Sol of best ant till now is : ['PrefixSuffix-']      Specificity: 1.0\n",
            "Best_Sol length :   1\n",
            "Time Taken by iteration  6  is : 35.75484275817871\n",
            "Iteration No : 7\n",
            "###########Iteration :  7 ############\n",
            "Sol of ant  0  is : [6]      Specificity: 1.0\n",
            "Sol of ant  1  is : [6]      Specificity: 1.0\n",
            "Sol of ant  2  is : [6]      Specificity: 1.0\n",
            "Sol of ant  3  is : [6]      Specificity: 1.0\n",
            "Sol of ant  4  is : [6]      Specificity: 1.0\n",
            "Sol of ant  5  is : [6]      Specificity: 1.0\n",
            "Sol of ant  6  is : [6]      Specificity: 1.0\n",
            "Sol of ant  7  is : [6]      Specificity: 1.0\n",
            "Sol of ant  8  is : [6]      Specificity: 1.0\n",
            "Sol of ant  9  is : [6]      Specificity: 1.0\n",
            "Sol of best ant till now is : ['PrefixSuffix-']      Specificity: 1.0\n",
            "Best_Sol length :   1\n",
            "Time Taken by iteration  7  is : 36.02876043319702\n",
            "Iteration No : 8\n",
            "###########Iteration :  8 ############\n",
            "Sol of ant  0  is : [6]      Specificity: 1.0\n",
            "Sol of ant  1  is : [6]      Specificity: 1.0\n",
            "Sol of ant  2  is : [6]      Specificity: 1.0\n",
            "Sol of ant  3  is : [6]      Specificity: 1.0\n",
            "Sol of ant  4  is : [6]      Specificity: 1.0\n",
            "Sol of ant  5  is : [6]      Specificity: 1.0\n",
            "Sol of ant  6  is : [6]      Specificity: 1.0\n",
            "Sol of ant  7  is : [6]      Specificity: 1.0\n",
            "Sol of ant  8  is : [6]      Specificity: 1.0\n",
            "Sol of ant  9  is : [6]      Specificity: 1.0\n",
            "Sol of best ant till now is : ['PrefixSuffix-']      Specificity: 1.0\n",
            "Best_Sol length :   1\n",
            "Time Taken by iteration  8  is : 36.40361571311951\n",
            "Iteration No : 9\n",
            "###########Iteration :  9 ############\n",
            "Sol of ant  0  is : [6]      Specificity: 1.0\n",
            "Sol of ant  1  is : [6]      Specificity: 1.0\n",
            "Sol of ant  2  is : [6]      Specificity: 1.0\n",
            "Sol of ant  3  is : [6]      Specificity: 1.0\n",
            "Sol of ant  4  is : [6]      Specificity: 1.0\n",
            "Sol of ant  5  is : [6]      Specificity: 1.0\n",
            "Sol of ant  6  is : [6]      Specificity: 1.0\n",
            "Sol of ant  7  is : [6]      Specificity: 1.0\n",
            "Sol of ant  8  is : [6]      Specificity: 1.0\n",
            "Sol of ant  9  is : [6]      Specificity: 1.0\n",
            "Sol of best ant till now is : ['PrefixSuffix-']      Specificity: 1.0\n",
            "Best_Sol length :   1\n",
            "Time Taken by iteration  9  is : 36.69212293624878\n",
            "Total time by ACO (in sec):  1835.665241241455\n",
            "Best_Sol  :   ['PrefixSuffix-']\n",
            "Best_Sol length :   1\n",
            "Specificity of Best_ant solution is : 1.0\n"
          ],
          "name": "stdout"
        }
      ]
    },
    {
      "cell_type": "code",
      "metadata": {
        "id": "2pbmFuoLFIa5"
      },
      "source": [
        "# # KNN\n",
        "# start_time = time.time()\n",
        "# knn=KNeighborsClassifier(n_neighbors=3,weights='distance',n_jobs=-1)\n",
        "\n",
        "# model_2= knn.fit(train_X,train_Y)\n",
        "# knn_predict=model_2.predict(test_X)\n",
        "# end_time = time.time()\n",
        "\n",
        "\n",
        "# print('accuracy score',accuracy_score(knn_predict,test_Y))\n",
        "\n",
        "# print('f1_score:',f1_score(knn_predict,test_Y))\n",
        "\n",
        "\n",
        "\n",
        "# plot_confusion_matrix(test_Y, knn_predict)\n"
      ],
      "execution_count": null,
      "outputs": []
    },
    {
      "cell_type": "code",
      "metadata": {
        "id": "yyvx-WxPF-FK"
      },
      "source": [
        "# dtree=DecisionTreeClassifier(criterion='entropy',max_depth=5,splitter='best')\n",
        "# model_3=dtree.fit(train_X,train_Y)\n",
        "# dtree_predict=model_3.predict(test_X)\n",
        "\n",
        "\n",
        "\n",
        "\n",
        "# print('accuracy score',accuracy_score(dtree_predict,test_Y))\n",
        "\n",
        "# print('f1_score:',f1_score(dtree_predict,test_Y))\n",
        "\n",
        "# plot_confusion_matrix(test_Y, dtree_predict)\n"
      ],
      "execution_count": null,
      "outputs": []
    },
    {
      "cell_type": "code",
      "metadata": {
        "id": "R1ks99w-Gc7a"
      },
      "source": [
        "\n",
        "\n"
      ],
      "execution_count": null,
      "outputs": []
    },
    {
      "cell_type": "code",
      "metadata": {
        "id": "X4Rw_VpuO_xV",
        "colab": {
          "base_uri": "https://localhost:8080/"
        },
        "outputId": "39a7aabb-2702-4ceb-da5a-9015b13fb138"
      },
      "source": [
        "xgb=XGBClassifier()\n"
      ],
      "execution_count": null,
      "outputs": [
        {
          "output_type": "stream",
          "text": [
            "accuracy score: 0.947535052012664\n",
            "f1 score: 0.9540775930324624\n"
          ],
          "name": "stdout"
        }
      ]
    },
    {
      "cell_type": "code",
      "metadata": {
        "colab": {
          "base_uri": "https://localhost:8080/",
          "height": 289
        },
        "id": "2N01iCsy1JCn",
        "outputId": "b3b158c3-8ffc-4d7d-84bb-44e0f7bd0a25"
      },
      "source": [
        "plot_confusion_matrix(test_Y, xgb_predict)"
      ],
      "execution_count": null,
      "outputs": [
        {
          "output_type": "display_data",
          "data": {
            "image/png": "[encoded data removed]",
            "text/plain": [
              "<Figure size 1440x288 with 6 Axes>"
            ]
          },
          "metadata": {
            "tags": [],
            "needs_background": "light"
          }
        }
      ]
    }
  ]
}