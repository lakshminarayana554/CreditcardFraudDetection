{
  "nbformat": 4,
  "nbformat_minor": 0,
  "metadata": {
    "colab": {
      "name": "LR.ipynb",
      "provenance": [],
      "collapsed_sections": []
    },
    "kernelspec": {
      "display_name": "Python 3",
      "name": "python3"
    },
    "language_info": {
      "name": "python"
    }
  },
  "cells": [
    {
      "cell_type": "code",
      "metadata": {
        "id": "wtFeqssJlKF8"
      },
      "source": [
        "\n",
        "import sys\n",
        "import math\n",
        "import time\n",
        "from random import randint,choice, shuffle, random\n",
        "from statistics import mode\n",
        "import pandas as pd\n",
        "import seaborn as sns\n",
        "import matplotlib.pyplot as plt\n",
        "import numpy as np\n",
        "from scipy import stats\n",
        "# from sklearn import svm\n",
        "from sklearn.model_selection import train_test_split\n",
        "from sklearn.metrics import *\n",
        "from sklearn.preprocessing import LabelEncoder\n",
        "from sklearn.feature_selection import *\n",
        "# from sklearn.neighbors import KNeighborsClassifier\n",
        "# from sklearn import tree\n",
        "\n",
        "from sklearn.linear_model import LogisticRegression\n",
        "from sklearn.model_selection import GridSearchCV\n",
        "from sklearn.metrics import make_scorer\n",
        "from sklearn.metrics import confusion_matrix \n",
        "\n",
        "def specificity(y_true, y_predicted):\n",
        " tp,fp,fn,tn = confusion_matrix(y_true, y_predicted).ravel()\n",
        " s=tn/(tn+fp)\n",
        " return s\n",
        "\n",
        "my_scorer = make_scorer(specificity, greater_is_better=True)\n",
        "\n",
        "\n",
        "\n"
      ],
      "execution_count": 21,
      "outputs": []
    },
    {
      "cell_type": "code",
      "metadata": {
        "id": "zK-mLrTLmLMT"
      },
      "source": [
        "data=pd.read_csv('/content/drive/MyDrive/Colab Notebooks/M_dataset/creditcardM.csv')\n",
        "data.drop('Time',axis=1,inplace=True)\n"
      ],
      "execution_count": 22,
      "outputs": []
    },
    {
      "cell_type": "code",
      "metadata": {
        "colab": {
          "base_uri": "https://localhost:8080/"
        },
        "id": "0R5id-DWh-x8",
        "outputId": "b6752192-e9cd-4f1b-e864-492bfc401dc7"
      },
      "source": [
        "\n",
        "data[(data['Class']==1)].index"
      ],
      "execution_count": 23,
      "outputs": [
        {
          "output_type": "execute_result",
          "data": {
            "text/plain": [
              "Int64Index([  25,   40,   51,   58,   82,   98,  123,  150,  160,  178,\n",
              "            ...\n",
              "            9844, 9849, 9861, 9907, 9914, 9922, 9927, 9948, 9968, 9979],\n",
              "           dtype='int64', length=492)"
            ]
          },
          "metadata": {
            "tags": []
          },
          "execution_count": 23
        }
      ]
    },
    {
      "cell_type": "code",
      "metadata": {
        "id": "bM9SzpIJHzLr"
      },
      "source": [
        "col_names=list(data.columns)\n",
        "Att_names=col_names[:-1]\n",
        "Class_names=data[\"Class\"].unique()"
      ],
      "execution_count": 24,
      "outputs": []
    },
    {
      "cell_type": "code",
      "metadata": {
        "colab": {
          "base_uri": "https://localhost:8080/"
        },
        "id": "pt5lAz-CH2JG",
        "outputId": "95412f74-5f01-4f45-ce1b-00f74aaa1cdb"
      },
      "source": [
        "n_att = len(Att_names)\n",
        "n_att\n",
        "\n",
        "\n",
        " "
      ],
      "execution_count": 25,
      "outputs": [
        {
          "output_type": "execute_result",
          "data": {
            "text/plain": [
              "29"
            ]
          },
          "metadata": {
            "tags": []
          },
          "execution_count": 25
        }
      ]
    },
    {
      "cell_type": "code",
      "metadata": {
        "id": "cVOb89Asma2W"
      },
      "source": [
        "\n",
        "train_data, test_data = train_test_split(data, test_size=0.3)\n",
        "train_x=train_data.iloc[:,:-1].values\n",
        "train_y=train_data[\"Class\"].values\n",
        "test_x=test_data.iloc[:,:-1].values\n",
        "test_y=test_data[\"Class\"].values\n"
      ],
      "execution_count": 26,
      "outputs": []
    },
    {
      "cell_type": "markdown",
      "metadata": {
        "id": "dJ5YnA_Bt5YP"
      },
      "source": [
        "LogisticRegression\n"
      ]
    },
    {
      "cell_type": "code",
      "metadata": {
        "id": "C3ufT2_ZoHqx"
      },
      "source": [
        "\n",
        "# Logestic LogisticRegression\n",
        "\n",
        "clf=GridSearchCV(LogisticRegression(max_iter=100,n_jobs=-1,class_weight='balanced'),scoring=my_scorer,param_grid={'C':[0.1]})\n",
        "\n",
        "\n",
        "\n",
        "\n"
      ],
      "execution_count": 28,
      "outputs": []
    },
    {
      "cell_type": "code",
      "metadata": {
        "id": "1NQg3y-wINie"
      },
      "source": [
        "#Constants\n",
        "#pheromone concentration influence \n",
        "alpha = 0.5 \n",
        "#MI influence\n",
        "beta = 0.5\n",
        "#pheromone evoparation\n",
        "rho = 0.1\n",
        "#Pheromone diposite level\n",
        "q = 0.5\n",
        "epsilon = 0.001"
      ],
      "execution_count": 29,
      "outputs": []
    },
    {
      "cell_type": "code",
      "metadata": {
        "colab": {
          "base_uri": "https://localhost:8080/"
        },
        "id": "my3a9TV0IPXE",
        "outputId": "9712cdff-e08c-461b-cc4b-b0c96f97ef95"
      },
      "source": [
        "clf.fit(train_x,train_y)\n",
        "clf.score(test_x,test_y)\n"
      ],
      "execution_count": 30,
      "outputs": [
        {
          "output_type": "execute_result",
          "data": {
            "text/plain": [
              "0.6732673267326733"
            ]
          },
          "metadata": {
            "tags": []
          },
          "execution_count": 30
        }
      ]
    },
    {
      "cell_type": "code",
      "metadata": {
        "colab": {
          "base_uri": "https://localhost:8080/"
        },
        "id": "H8Rbl8tTIR9q",
        "outputId": "847e4b79-2be4-4204-97b8-1a0e8ea56d70"
      },
      "source": [
        "\n",
        "# number of ants and number of iterations\n",
        "tset = list(range(n_att))\n",
        "n_ants = 10\n",
        "n_iter = 10\n",
        "ants=[[] for x in range(n_ants)]\n",
        "ac_ants=[0 for x in range(n_ants)]\n",
        "best_tour = tset.copy()\n",
        "best_ac=clf.fit(train_x[:,best_tour],train_y).score(test_x[:,best_tour],test_y)\n",
        "#Intializing Pheromone\n",
        "ph_trail = []\n",
        "for i in range(n_att):\n",
        "    p_r = [0.5 for j in range(n_att)]\n",
        "    p_r[i] = 0\n",
        "    ph_trail.append(p_r)\n",
        "t_time_s = time.time()\n",
        "t_t_time = 0\n",
        "for i in range(n_iter):\n",
        "    print(\"Iteration No :\", i)\n",
        "    at_time_s = time.time()\n",
        "    for a in range(n_ants):\n",
        "        ants[a]=[choice(best_tour)]\n",
        "        while True:\n",
        "            change=False\n",
        "            mic = clf.fit(train_x[:,ants[a]],train_y).score(test_x[:,ants[a]],test_y)\n",
        "            next_pos = {}\n",
        "            max_next = []\n",
        "            for at in range(n_att):\n",
        "                if at not in ants[a]:\n",
        "                    ph=0\n",
        "                    hi = clf.fit(train_x[:,ants[a]+[at]],train_y).score(test_x[:,ants[a]+[at]],test_y)- mic\n",
        "                    hi= 0 if hi<=0 else hi\n",
        "                    for x_pos in ants[a]:\n",
        "                        ph+=ph_trail[x_pos][at]\n",
        "                    ph=ph/len(ants[a])\n",
        "                    t_value = (hi ** beta) * (ph ** alpha)\n",
        "                    if t_value>0:\n",
        "                        max_next.append((t_value,at))\n",
        "            if(len(max_next)):    \n",
        "                pr=randint(0,len(max_next)-1)\n",
        "                n_at = max_next[randint(0, pr)][1]\n",
        "                ants[a].append(n_at)\n",
        "                change=True\n",
        "            if change==False:\n",
        "                break\n",
        "    for a in range(n_ants):\n",
        "        ascore=clf.fit(train_x[:,ants[a]],train_y).score(test_x[:,ants[a]],test_y)\n",
        "        ac_ants[a]=(ascore)\n",
        "        bscore=best_ac\n",
        "        if ascore>bscore:\n",
        "            best_tour = ants[a].copy()\n",
        "            best_ac=ac_ants[a]\n",
        "        elif ascore==bscore:\n",
        "            if len(ants[a])<len(best_tour):\n",
        "                best_tour = ants[a].copy()\n",
        "                best_ac=ac_ants[a]\n",
        "    for a in range(n_ants):\n",
        "        for k in ants[a]:\n",
        "            for j in ants[a]:\n",
        "                if k != j:\n",
        "                    ph_trail[k][j] += ph_trail[k][j] *  ac_ants[a]/ len(ants[a])\n",
        "                    if ph_trail[k][j]>1:\n",
        "                        ph_trail[k][j]=1\n",
        "    for k in best_tour:\n",
        "        for j in best_tour:\n",
        "            if k != j:\n",
        "                ph_trail[k][j] += ph_trail[k][j] *  best_ac/ len(ants[a])\n",
        "                if ph_trail[k][j]>1:\n",
        "                    ph_trail[k][j]=1\n",
        "    for j in range(n_att):\n",
        "        for k in range(n_att):\n",
        "            if k!=j:\n",
        "                ph_trail[j][k]*=(1-rho)\n",
        "    at_time_e = time.time()\n",
        "    tempset=set()\n",
        "    print(\"###########Iteration : \",i,\"############\")\n",
        "    for a in range(n_ants):\n",
        "        print(\"Sol of ant \",a,\" is :\",ants[a],\"     Specificity:\",ac_ants[a])\n",
        "    print(\"Sol of best ant till now is :\",[Att_names[x] for x in best_tour],\"     Specificity:\",best_ac)\n",
        "    print(\"Best_Sol length :  \", len(best_tour))\n",
        "    print(\"Time Taken by iteration \", i, \" is :\", at_time_e - at_time_s)\n",
        "t_time_e = time.time()\n",
        "print(\"Total time by ACO (in sec): \", t_time_e - t_time_s)\n",
        "print(\"Best_Sol  :  \", [Att_names[x] for x in best_tour])\n",
        "print(\"Best_Sol length :  \", len(best_tour))\n",
        "print(\"Specificity of Best_ant solution is :\",best_ac)\n"
      ],
      "execution_count": 31,
      "outputs": [
        {
          "output_type": "stream",
          "text": [
            "Iteration No : 0\n",
            "###########Iteration :  0 ############\n",
            "Sol of ant  0  is : [19, 6, 1, 5, 16, 10, 8, 20, 9, 12, 15, 17]      Specificity: 0.7839506172839507\n",
            "Sol of ant  1  is : [19, 16, 22, 28]      Specificity: 0.9646017699115044\n",
            "Sol of ant  2  is : [2, 0, 9, 8, 3, 7, 10, 4, 14, 22, 16, 23, 13, 1, 15, 25, 11, 17, 18, 20]      Specificity: 0.7150537634408602\n",
            "Sol of ant  3  is : [25, 0, 3, 2, 5, 4, 22, 11, 6, 9, 12, 1, 13, 7, 10, 16, 17]      Specificity: 0.7105263157894737\n",
            "Sol of ant  4  is : [25, 27, 19, 1, 6, 15, 13, 12, 5, 9, 16, 23, 8, 20]      Specificity: 0.7329545454545454\n",
            "Sol of ant  5  is : [18, 7, 9, 1, 10, 20, 8, 13, 5, 0, 15, 14, 6, 16, 25]      Specificity: 0.7413793103448276\n",
            "Sol of ant  6  is : [26, 15, 24, 0, 2, 1, 8, 6, 5, 3, 4, 10, 14, 7, 9, 20, 16, 19, 18]      Specificity: 0.7052631578947368\n",
            "Sol of ant  7  is : [2, 1, 3, 8, 13, 0, 11, 9, 6, 5, 4, 7, 15, 19, 16]      Specificity: 0.6994818652849741\n",
            "Sol of ant  8  is : [0, 1, 9, 3, 4, 18, 15, 2, 7, 19, 12, 11, 20, 13, 5, 24, 14, 25, 17]      Specificity: 0.6979166666666666\n",
            "Sol of ant  9  is : [22, 0, 2, 19, 9, 6, 5, 3, 7, 11, 8, 25, 13, 1, 16, 10, 12, 20, 24, 4, 18, 28]      Specificity: 0.7204301075268817\n",
            "Sol of best ant till now is : ['V20', 'V17', 'V23', 'Amount']      Specificity: 0.9646017699115044\n",
            "Best_Sol length :   4\n",
            "Time Taken by iteration  0  is : 1386.6116244792938\n",
            "Iteration No : 1\n",
            "###########Iteration :  1 ############\n",
            "Sol of ant  0  is : [22, 5, 1, 23, 2, 0, 8, 3, 11, 6, 9, 12, 7, 10, 24, 13, 16, 4, 17, 25, 27]      Specificity: 0.7180851063829787\n",
            "Sol of ant  1  is : [19, 7, 6, 26, 5, 21, 9, 14, 2, 13, 3, 8, 10, 15, 0]      Specificity: 0.6871794871794872\n",
            "Sol of ant  2  is : [19, 6, 1, 5, 9, 15, 21, 8, 10, 12, 20]      Specificity: 0.8193548387096774\n",
            "Sol of ant  3  is : [16]      Specificity: 0.9649122807017544\n",
            "Sol of ant  4  is : [22, 1, 2, 4, 13, 16, 7, 0, 5, 9, 18, 12, 17, 21, 25]      Specificity: 0.7027027027027027\n",
            "Sol of ant  5  is : [22, 7, 6, 3, 13, 9, 5, 15, 10, 17, 1, 12, 16, 18, 19]      Specificity: 0.7282608695652174\n",
            "Sol of ant  6  is : [22, 0, 9, 1, 3, 5, 8, 20, 10, 2, 7, 18, 15, 14, 16, 4, 21, 19, 25, 26, 12, 27]      Specificity: 0.703125\n",
            "Sol of ant  7  is : [22, 10, 2, 20, 11, 6, 12, 9, 3, 4, 13, 15, 16, 25]      Specificity: 0.694300518134715\n",
            "Sol of ant  8  is : [19, 2, 9, 6, 3, 10, 14, 13, 8, 7, 1, 23, 20, 25, 18, 15]      Specificity: 0.7074468085106383\n",
            "Sol of ant  9  is : [19, 3, 5, 2, 9, 7, 17, 13, 11, 8, 4, 22, 24]      Specificity: 0.7021276595744681\n",
            "Sol of best ant till now is : ['V17']      Specificity: 0.9649122807017544\n",
            "Best_Sol length :   1\n",
            "Time Taken by iteration  1  is : 1293.3877427577972\n",
            "Iteration No : 2\n",
            "###########Iteration :  2 ############\n",
            "Sol of ant  0  is : [16]      Specificity: 0.9649122807017544\n",
            "Sol of ant  1  is : [16]      Specificity: 0.9649122807017544\n",
            "Sol of ant  2  is : [16]      Specificity: 0.9649122807017544\n",
            "Sol of ant  3  is : [16]      Specificity: 0.9649122807017544\n",
            "Sol of ant  4  is : [16]      Specificity: 0.9649122807017544\n",
            "Sol of ant  5  is : [16]      Specificity: 0.9649122807017544\n",
            "Sol of ant  6  is : [16]      Specificity: 0.9649122807017544\n",
            "Sol of ant  7  is : [16]      Specificity: 0.9649122807017544\n",
            "Sol of ant  8  is : [16]      Specificity: 0.9649122807017544\n",
            "Sol of ant  9  is : [16]      Specificity: 0.9649122807017544\n",
            "Sol of best ant till now is : ['V17']      Specificity: 0.9649122807017544\n",
            "Best_Sol length :   1\n",
            "Time Taken by iteration  2  is : 74.01286125183105\n",
            "Iteration No : 3\n",
            "###########Iteration :  3 ############\n",
            "Sol of ant  0  is : [16]      Specificity: 0.9649122807017544\n",
            "Sol of ant  1  is : [16]      Specificity: 0.9649122807017544\n",
            "Sol of ant  2  is : [16]      Specificity: 0.9649122807017544\n",
            "Sol of ant  3  is : [16]      Specificity: 0.9649122807017544\n",
            "Sol of ant  4  is : [16]      Specificity: 0.9649122807017544\n",
            "Sol of ant  5  is : [16]      Specificity: 0.9649122807017544\n",
            "Sol of ant  6  is : [16]      Specificity: 0.9649122807017544\n",
            "Sol of ant  7  is : [16]      Specificity: 0.9649122807017544\n",
            "Sol of ant  8  is : [16]      Specificity: 0.9649122807017544\n",
            "Sol of ant  9  is : [16]      Specificity: 0.9649122807017544\n",
            "Sol of best ant till now is : ['V17']      Specificity: 0.9649122807017544\n",
            "Best_Sol length :   1\n",
            "Time Taken by iteration  3  is : 73.9770655632019\n",
            "Iteration No : 4\n",
            "###########Iteration :  4 ############\n",
            "Sol of ant  0  is : [16]      Specificity: 0.9649122807017544\n",
            "Sol of ant  1  is : [16]      Specificity: 0.9649122807017544\n",
            "Sol of ant  2  is : [16]      Specificity: 0.9649122807017544\n",
            "Sol of ant  3  is : [16]      Specificity: 0.9649122807017544\n",
            "Sol of ant  4  is : [16]      Specificity: 0.9649122807017544\n",
            "Sol of ant  5  is : [16]      Specificity: 0.9649122807017544\n",
            "Sol of ant  6  is : [16]      Specificity: 0.9649122807017544\n",
            "Sol of ant  7  is : [16]      Specificity: 0.9649122807017544\n",
            "Sol of ant  8  is : [16]      Specificity: 0.9649122807017544\n",
            "Sol of ant  9  is : [16]      Specificity: 0.9649122807017544\n",
            "Sol of best ant till now is : ['V17']      Specificity: 0.9649122807017544\n",
            "Best_Sol length :   1\n",
            "Time Taken by iteration  4  is : 74.12185144424438\n",
            "Iteration No : 5\n",
            "###########Iteration :  5 ############\n",
            "Sol of ant  0  is : [16]      Specificity: 0.9649122807017544\n",
            "Sol of ant  1  is : [16]      Specificity: 0.9649122807017544\n",
            "Sol of ant  2  is : [16]      Specificity: 0.9649122807017544\n",
            "Sol of ant  3  is : [16]      Specificity: 0.9649122807017544\n",
            "Sol of ant  4  is : [16]      Specificity: 0.9649122807017544\n",
            "Sol of ant  5  is : [16]      Specificity: 0.9649122807017544\n",
            "Sol of ant  6  is : [16]      Specificity: 0.9649122807017544\n",
            "Sol of ant  7  is : [16]      Specificity: 0.9649122807017544\n",
            "Sol of ant  8  is : [16]      Specificity: 0.9649122807017544\n",
            "Sol of ant  9  is : [16]      Specificity: 0.9649122807017544\n",
            "Sol of best ant till now is : ['V17']      Specificity: 0.9649122807017544\n",
            "Best_Sol length :   1\n",
            "Time Taken by iteration  5  is : 74.40553784370422\n",
            "Iteration No : 6\n",
            "###########Iteration :  6 ############\n",
            "Sol of ant  0  is : [16]      Specificity: 0.9649122807017544\n",
            "Sol of ant  1  is : [16]      Specificity: 0.9649122807017544\n",
            "Sol of ant  2  is : [16]      Specificity: 0.9649122807017544\n",
            "Sol of ant  3  is : [16]      Specificity: 0.9649122807017544\n",
            "Sol of ant  4  is : [16]      Specificity: 0.9649122807017544\n",
            "Sol of ant  5  is : [16]      Specificity: 0.9649122807017544\n",
            "Sol of ant  6  is : [16]      Specificity: 0.9649122807017544\n",
            "Sol of ant  7  is : [16]      Specificity: 0.9649122807017544\n",
            "Sol of ant  8  is : [16]      Specificity: 0.9649122807017544\n",
            "Sol of ant  9  is : [16]      Specificity: 0.9649122807017544\n",
            "Sol of best ant till now is : ['V17']      Specificity: 0.9649122807017544\n",
            "Best_Sol length :   1\n",
            "Time Taken by iteration  6  is : 74.95306324958801\n",
            "Iteration No : 7\n",
            "###########Iteration :  7 ############\n",
            "Sol of ant  0  is : [16]      Specificity: 0.9649122807017544\n",
            "Sol of ant  1  is : [16]      Specificity: 0.9649122807017544\n",
            "Sol of ant  2  is : [16]      Specificity: 0.9649122807017544\n",
            "Sol of ant  3  is : [16]      Specificity: 0.9649122807017544\n",
            "Sol of ant  4  is : [16]      Specificity: 0.9649122807017544\n",
            "Sol of ant  5  is : [16]      Specificity: 0.9649122807017544\n",
            "Sol of ant  6  is : [16]      Specificity: 0.9649122807017544\n",
            "Sol of ant  7  is : [16]      Specificity: 0.9649122807017544\n",
            "Sol of ant  8  is : [16]      Specificity: 0.9649122807017544\n",
            "Sol of ant  9  is : [16]      Specificity: 0.9649122807017544\n",
            "Sol of best ant till now is : ['V17']      Specificity: 0.9649122807017544\n",
            "Best_Sol length :   1\n",
            "Time Taken by iteration  7  is : 74.93048214912415\n",
            "Iteration No : 8\n",
            "###########Iteration :  8 ############\n",
            "Sol of ant  0  is : [16]      Specificity: 0.9649122807017544\n",
            "Sol of ant  1  is : [16]      Specificity: 0.9649122807017544\n",
            "Sol of ant  2  is : [16]      Specificity: 0.9649122807017544\n",
            "Sol of ant  3  is : [16]      Specificity: 0.9649122807017544\n",
            "Sol of ant  4  is : [16]      Specificity: 0.9649122807017544\n",
            "Sol of ant  5  is : [16]      Specificity: 0.9649122807017544\n",
            "Sol of ant  6  is : [16]      Specificity: 0.9649122807017544\n",
            "Sol of ant  7  is : [16]      Specificity: 0.9649122807017544\n",
            "Sol of ant  8  is : [16]      Specificity: 0.9649122807017544\n",
            "Sol of ant  9  is : [16]      Specificity: 0.9649122807017544\n",
            "Sol of best ant till now is : ['V17']      Specificity: 0.9649122807017544\n",
            "Best_Sol length :   1\n",
            "Time Taken by iteration  8  is : 75.40037059783936\n",
            "Iteration No : 9\n",
            "###########Iteration :  9 ############\n",
            "Sol of ant  0  is : [16]      Specificity: 0.9649122807017544\n",
            "Sol of ant  1  is : [16]      Specificity: 0.9649122807017544\n",
            "Sol of ant  2  is : [16]      Specificity: 0.9649122807017544\n",
            "Sol of ant  3  is : [16]      Specificity: 0.9649122807017544\n",
            "Sol of ant  4  is : [16]      Specificity: 0.9649122807017544\n",
            "Sol of ant  5  is : [16]      Specificity: 0.9649122807017544\n",
            "Sol of ant  6  is : [16]      Specificity: 0.9649122807017544\n",
            "Sol of ant  7  is : [16]      Specificity: 0.9649122807017544\n",
            "Sol of ant  8  is : [16]      Specificity: 0.9649122807017544\n",
            "Sol of ant  9  is : [16]      Specificity: 0.9649122807017544\n",
            "Sol of best ant till now is : ['V17']      Specificity: 0.9649122807017544\n",
            "Best_Sol length :   1\n",
            "Time Taken by iteration  9  is : 75.11843967437744\n",
            "Total time by ACO (in sec):  3276.991679430008\n",
            "Best_Sol  :   ['V17']\n",
            "Best_Sol length :   1\n",
            "Specificity of Best_ant solution is : 0.9649122807017544\n"
          ],
          "name": "stdout"
        }
      ]
    }
  ]
}