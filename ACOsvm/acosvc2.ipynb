{
 "cells": [
  {
   "cell_type": "code",
   "execution_count": null,
   "metadata": {
    "id": "wtFeqssJlKF8"
   },
   "outputs": [],
   "source": [
    "\n",
    "import sys\n",
    "import math\n",
    "import time\n",
    "from random import randint,choice, shuffle, random\n",
    "from statistics import mode\n",
    "import pandas as pd\n",
    "import seaborn as sns\n",
    "import matplotlib.pyplot as plt\n",
    "import numpy as np\n",
    "from scipy import stats\n",
    "\n",
    "from sklearn.model_selection import train_test_split\n",
    "from sklearn.metrics import *\n",
    "from sklearn.preprocessing import LabelEncoder\n",
    "from sklearn.feature_selection import *\n",
    "from sklearn.svm import SVC\n",
    "from sklearn.linear_model import LogisticRegression\n",
    "from sklearn.model_selection import GridSearchCV\n",
    "from sklearn.metrics import make_scorer\n",
    "from sklearn.metrics import confusion_matrix \n",
    "\n",
    "def specificity(y_true, y_predicted):\n",
    " tp,fp,fn,tn = confusion_matrix(y_true, y_predicted).ravel()\n",
    " s=tn/(tn+fp)\n",
    " return s\n",
    "\n",
    "my_scorer = make_scorer(specificity, greater_is_better=True)\n",
    "\n",
    "\n",
    "\n"
   ]
  },
  {
   "cell_type": "code",
   "execution_count": null,
   "metadata": {
    "id": "zK-mLrTLmLMT"
   },
   "outputs": [],
   "source": [
    "data=pd.read_csv('creditcardM.csv')\n",
    "data.drop('Time',axis=1,inplace=True)\n"
   ]
  },
  {
   "cell_type": "code",
   "execution_count": null,
   "metadata": {
    "colab": {
     "base_uri": "https://localhost:8080/",
     "height": 439
    },
    "id": "0R5id-DWh-x8",
    "outputId": "8130e1b1-aa34-4c0b-e4dd-8aed937379eb"
   },
   "outputs": [],
   "source": [
    "data[ (data['Class']==1)]\n"
   ]
  },
  {
   "cell_type": "code",
   "execution_count": null,
   "metadata": {
    "id": "bM9SzpIJHzLr"
   },
   "outputs": [],
   "source": [
    "col_names=list(data.columns)\n",
    "Att_names=col_names[:-1]\n",
    "Class_names=data[\"Class\"].unique()"
   ]
  },
  {
   "cell_type": "code",
   "execution_count": null,
   "metadata": {
    "colab": {
     "base_uri": "https://localhost:8080/"
    },
    "id": "pt5lAz-CH2JG",
    "outputId": "a2ce0f9c-d87e-4fae-e155-9424358f080c"
   },
   "outputs": [],
   "source": [
    "n_att = len(Att_names)\n",
    "n_att\n",
    "\n",
    "\n",
    " "
   ]
  },
  {
   "cell_type": "code",
   "execution_count": null,
   "metadata": {
    "id": "cVOb89Asma2W"
   },
   "outputs": [],
   "source": [
    "\n",
    "train_data, test_data = train_test_split(data, test_size=0.3)\n",
    "train_x=train_data.iloc[:,:-1].values\n",
    "train_y=train_data[\"Class\"].values\n",
    "test_x=test_data.iloc[:,:-1].values\n",
    "test_y=test_data[\"Class\"].values\n"
   ]
  },
  {
   "cell_type": "markdown",
   "metadata": {
    "id": "dJ5YnA_Bt5YP"
   },
   "source": [
    "LogisticRegression\n"
   ]
  },
  {
   "cell_type": "code",
   "execution_count": null,
   "metadata": {
    "id": "C3ufT2_ZoHqx"
   },
   "outputs": [],
   "source": [
    "\n",
    "# SVC\n",
    "\n",
    "clf=GridSearchCV(SVC(class_weight='balanced'),scoring=my_scorer,param_grid={'C':[1.0]})\n",
    "\n",
    "\n",
    "\n",
    "\n"
   ]
  },
  {
   "cell_type": "code",
   "execution_count": null,
   "metadata": {
    "id": "1NQg3y-wINie"
   },
   "outputs": [],
   "source": [
    "#Constants\n",
    "#pheromone concentration influence \n",
    "alpha = 0.5 \n",
    "#MI influence\n",
    "beta = 0.5\n",
    "#pheromone evoparation\n",
    "rho = 0.1\n",
    "#Pheromone diposite level\n",
    "q = 0.5\n",
    "epsilon = 0.001"
   ]
  },
  {
   "cell_type": "code",
   "execution_count": 12,
   "metadata": {
    "colab": {
     "base_uri": "https://localhost:8080/"
    },
    "id": "my3a9TV0IPXE",
    "outputId": "38235a43-c451-4bd3-dac5-fb046f5c475e"
   },
   "outputs": [
    {
     "data": {
      "text/plain": [
       "0.8349514563106796"
      ]
     },
     "execution_count": 12,
     "metadata": {},
     "output_type": "execute_result"
    }
   ],
   "source": [
    "clf.fit(train_x,train_y)\n",
    "clf.score(test_x,test_y)\n"
   ]
  },
  {
   "cell_type": "code",
   "execution_count": null,
   "metadata": {
    "colab": {
     "base_uri": "https://localhost:8080/"
    },
    "id": "H8Rbl8tTIR9q",
    "outputId": "90c94577-aabe-4c1a-80b3-add18aa00eef"
   },
   "outputs": [
    {
     "name": "stdout",
     "output_type": "stream",
     "text": [
      "Iteration No : 0\n"
     ]
    }
   ],
   "source": [
    "\n",
    "# number of ants and number of iterations\n",
    "tset = list(range(n_att))\n",
    "n_ants = 10\n",
    "n_iter = 10\n",
    "ants=[[] for x in range(n_ants)]\n",
    "ac_ants=[0 for x in range(n_ants)]\n",
    "best_tour = tset.copy()\n",
    "best_ac=clf.fit(train_x[:,best_tour],train_y).score(test_x[:,best_tour],test_y)\n",
    "#Intializing Pheromone\n",
    "ph_trail = []\n",
    "for i in range(n_att):\n",
    "    p_r = [0.5 for j in range(n_att)]\n",
    "    p_r[i] = 0\n",
    "    ph_trail.append(p_r)\n",
    "t_time_s = time.time()\n",
    "t_t_time = 0\n",
    "for i in range(n_iter):\n",
    "    print(\"Iteration No :\", i)\n",
    "    at_time_s = time.time()\n",
    "    for a in range(n_ants):\n",
    "        ants[a]=[choice(best_tour)]\n",
    "        while True:\n",
    "            change=False\n",
    "            mic = clf.fit(train_x[:,ants[a]],train_y).score(test_x[:,ants[a]],test_y)\n",
    "            next_pos = {}\n",
    "            max_next = []\n",
    "            for at in range(n_att):\n",
    "                if at not in ants[a]:\n",
    "                    ph=0\n",
    "                    hi = clf.fit(train_x[:,ants[a]+[at]],train_y).score(test_x[:,ants[a]+[at]],test_y)- mic\n",
    "                    hi= 0 if hi<=0 else hi\n",
    "                    for x_pos in ants[a]:\n",
    "                        ph+=ph_trail[x_pos][at]\n",
    "                    ph=ph/len(ants[a])\n",
    "                    t_value = (hi ** beta) * (ph ** alpha)\n",
    "                    if t_value>0:\n",
    "                        max_next.append((t_value,at))\n",
    "            if(len(max_next)):    \n",
    "                pr=randint(0,len(max_next)-1)\n",
    "                n_at = max_next[randint(0, pr)][1]\n",
    "                ants[a].append(n_at)\n",
    "                change=True\n",
    "            if change==False:\n",
    "                break\n",
    "    for a in range(n_ants):\n",
    "        ascore=clf.fit(train_x[:,ants[a]],train_y).score(test_x[:,ants[a]],test_y)\n",
    "        ac_ants[a]=(ascore)\n",
    "        bscore=best_ac\n",
    "        if ascore>bscore:\n",
    "            best_tour = ants[a].copy()\n",
    "            best_ac=ac_ants[a]\n",
    "        elif ascore==bscore:\n",
    "            if len(ants[a])<len(best_tour):\n",
    "                best_tour = ants[a].copy()\n",
    "                best_ac=ac_ants[a]\n",
    "    for a in range(n_ants):\n",
    "        for k in ants[a]:\n",
    "            for j in ants[a]:\n",
    "                if k != j:\n",
    "                    ph_trail[k][j] += ph_trail[k][j] *  ac_ants[a]/ len(ants[a])\n",
    "                    if ph_trail[k][j]>1:\n",
    "                        ph_trail[k][j]=1\n",
    "    for k in best_tour:\n",
    "        for j in best_tour:\n",
    "            if k != j:\n",
    "                ph_trail[k][j] += ph_trail[k][j] *  best_ac/ len(ants[a])\n",
    "                if ph_trail[k][j]>1:\n",
    "                    ph_trail[k][j]=1\n",
    "    for j in range(n_att):\n",
    "        for k in range(n_att):\n",
    "            if k!=j:\n",
    "                ph_trail[j][k]*=(1-rho)\n",
    "    at_time_e = time.time()\n",
    "    tempset=set()\n",
    "    print(\"###########Iteration : \",i,\"############\")\n",
    "    for a in range(n_ants):\n",
    "        print(\"Sol of ant \",a,\" is :\",ants[a],\"     Specificity:\",ac_ants[a])\n",
    "    print(\"Sol of best ant till now is :\",[Att_names[x] for x in best_tour],\"     Specificity:\",best_ac)\n",
    "    print(\"Best_Sol length :  \", len(best_tour))\n",
    "    print(\"Time Taken by iteration \", i, \" is :\", at_time_e - at_time_s)\n",
    "t_time_e = time.time()\n",
    "print(\"Total time by ACO (in sec): \", t_time_e - t_time_s)\n",
    "print(\"Best_Sol  :  \", [Att_names[x] for x in best_tour])\n",
    "print(\"Best_Sol length :  \", len(best_tour))\n",
    "print(\"Specificity of Best_ant solution is :\",best_ac)\n"
   ]
  },
  {
   "cell_type": "code",
   "execution_count": null,
   "metadata": {},
   "outputs": [],
   "source": []
  }
 ],
 "metadata": {
  "colab": {
   "collapsed_sections": [],
   "name": "acosvc1.ipynb",
   "provenance": []
  },
  "kernelspec": {
   "display_name": "Python 3",
   "language": "python",
   "name": "python3"
  }
 },
 "nbformat": 4,
 "nbformat_minor": 1
}
